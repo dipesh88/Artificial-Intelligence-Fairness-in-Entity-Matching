{
  "nbformat": 4,
  "nbformat_minor": 0,
  "metadata": {
    "kernelspec": {
      "display_name": "Python 3",
      "language": "python",
      "name": "python3"
    },
    "language_info": {
      "codemirror_mode": {
        "name": "ipython",
        "version": 3
      },
      "file_extension": ".py",
      "mimetype": "text/x-python",
      "name": "python",
      "nbconvert_exporter": "python",
      "pygments_lexer": "ipython3",
      "version": "3.6.12"
    },
    "colab": {
      "provenance": []
    }
  },
  "cells": [
    {
      "cell_type": "markdown",
      "source": [
        "**CO19322: 2019-2023 Batch**"
      ],
      "metadata": {
        "id": "xi2xYOvKEaUX"
      }
    },
    {
      "cell_type": "code",
      "metadata": {
        "id": "3-sIJFZTYLED",
        "colab": {
          "base_uri": "https://localhost:8080/",
          "height": 0
        },
        "outputId": "3b3a81e5-00be-43d2-8bd7-8363fa6ef768"
      },
      "source": [
        "!pip install py-entitymatching #match entities between two tables using supervised learning"
      ],
      "execution_count": 1,
      "outputs": [
        {
          "output_type": "stream",
          "name": "stdout",
          "text": [
            "Looking in indexes: https://pypi.org/simple, https://us-python.pkg.dev/colab-wheels/public/simple/\n",
            "Collecting py-entitymatching\n",
            "  Downloading py_entitymatching-0.4.0.tar.gz (2.0 MB)\n",
            "\u001b[K     |████████████████████████████████| 2.0 MB 5.3 MB/s \n",
            "\u001b[?25hRequirement already satisfied: requests in /usr/local/lib/python3.8/dist-packages (from py-entitymatching) (2.23.0)\n",
            "Requirement already satisfied: ipython>=5.6 in /usr/local/lib/python3.8/dist-packages (from py-entitymatching) (7.9.0)\n",
            "Requirement already satisfied: matplotlib>=2.2.4 in /usr/local/lib/python3.8/dist-packages (from py-entitymatching) (3.2.2)\n",
            "Collecting PyPrind\n",
            "  Downloading PyPrind-2.11.3-py2.py3-none-any.whl (8.4 kB)\n",
            "Collecting py-stringsimjoin>=0.3.0\n",
            "  Downloading py_stringsimjoin-0.3.2.tar.gz (1.1 MB)\n",
            "\u001b[K     |████████████████████████████████| 1.1 MB 52.0 MB/s \n",
            "\u001b[?25hRequirement already satisfied: cloudpickle>=0.2.1 in /usr/local/lib/python3.8/dist-packages (from py-entitymatching) (1.5.0)\n",
            "Requirement already satisfied: pyparsing>=2.1.4 in /usr/local/lib/python3.8/dist-packages (from py-entitymatching) (3.0.9)\n",
            "Requirement already satisfied: scikit-learn>=0.22 in /usr/local/lib/python3.8/dist-packages (from py-entitymatching) (1.0.2)\n",
            "Requirement already satisfied: scipy in /usr/local/lib/python3.8/dist-packages (from py-entitymatching) (1.7.3)\n",
            "Requirement already satisfied: numpy in /usr/local/lib/python3.8/dist-packages (from py-entitymatching) (1.21.6)\n",
            "Requirement already satisfied: prompt-toolkit<2.1.0,>=2.0.0 in /usr/local/lib/python3.8/dist-packages (from ipython>=5.6->py-entitymatching) (2.0.10)\n",
            "Requirement already satisfied: pexpect in /usr/local/lib/python3.8/dist-packages (from ipython>=5.6->py-entitymatching) (4.8.0)\n",
            "Requirement already satisfied: pygments in /usr/local/lib/python3.8/dist-packages (from ipython>=5.6->py-entitymatching) (2.6.1)\n",
            "Requirement already satisfied: traitlets>=4.2 in /usr/local/lib/python3.8/dist-packages (from ipython>=5.6->py-entitymatching) (5.7.1)\n",
            "Requirement already satisfied: pickleshare in /usr/local/lib/python3.8/dist-packages (from ipython>=5.6->py-entitymatching) (0.7.5)\n",
            "Requirement already satisfied: backcall in /usr/local/lib/python3.8/dist-packages (from ipython>=5.6->py-entitymatching) (0.2.0)\n",
            "Collecting jedi>=0.10\n",
            "  Downloading jedi-0.18.2-py2.py3-none-any.whl (1.6 MB)\n",
            "\u001b[K     |████████████████████████████████| 1.6 MB 27.8 MB/s \n",
            "\u001b[?25hRequirement already satisfied: setuptools>=18.5 in /usr/local/lib/python3.8/dist-packages (from ipython>=5.6->py-entitymatching) (57.4.0)\n",
            "Requirement already satisfied: decorator in /usr/local/lib/python3.8/dist-packages (from ipython>=5.6->py-entitymatching) (4.4.2)\n",
            "Requirement already satisfied: parso<0.9.0,>=0.8.0 in /usr/local/lib/python3.8/dist-packages (from jedi>=0.10->ipython>=5.6->py-entitymatching) (0.8.3)\n",
            "Requirement already satisfied: kiwisolver>=1.0.1 in /usr/local/lib/python3.8/dist-packages (from matplotlib>=2.2.4->py-entitymatching) (1.4.4)\n",
            "Requirement already satisfied: python-dateutil>=2.1 in /usr/local/lib/python3.8/dist-packages (from matplotlib>=2.2.4->py-entitymatching) (2.8.2)\n",
            "Requirement already satisfied: cycler>=0.10 in /usr/local/lib/python3.8/dist-packages (from matplotlib>=2.2.4->py-entitymatching) (0.11.0)\n",
            "Requirement already satisfied: six>=1.9.0 in /usr/local/lib/python3.8/dist-packages (from prompt-toolkit<2.1.0,>=2.0.0->ipython>=5.6->py-entitymatching) (1.15.0)\n",
            "Requirement already satisfied: wcwidth in /usr/local/lib/python3.8/dist-packages (from prompt-toolkit<2.1.0,>=2.0.0->ipython>=5.6->py-entitymatching) (0.2.5)\n",
            "Requirement already satisfied: joblib in /usr/local/lib/python3.8/dist-packages (from py-stringsimjoin>=0.3.0->py-entitymatching) (1.2.0)\n",
            "Requirement already satisfied: pandas>=0.16.0 in /usr/local/lib/python3.8/dist-packages (from py-stringsimjoin>=0.3.0->py-entitymatching) (1.3.5)\n",
            "Collecting py_stringmatching>=0.2.1\n",
            "  Downloading py_stringmatching-0.4.2.tar.gz (661 kB)\n",
            "\u001b[K     |████████████████████████████████| 661 kB 72.4 MB/s \n",
            "\u001b[?25hRequirement already satisfied: pytz>=2017.3 in /usr/local/lib/python3.8/dist-packages (from pandas>=0.16.0->py-stringsimjoin>=0.3.0->py-entitymatching) (2022.6)\n",
            "Requirement already satisfied: threadpoolctl>=2.0.0 in /usr/local/lib/python3.8/dist-packages (from scikit-learn>=0.22->py-entitymatching) (3.1.0)\n",
            "Requirement already satisfied: ptyprocess>=0.5 in /usr/local/lib/python3.8/dist-packages (from pexpect->ipython>=5.6->py-entitymatching) (0.7.0)\n",
            "Requirement already satisfied: idna<3,>=2.5 in /usr/local/lib/python3.8/dist-packages (from requests->py-entitymatching) (2.10)\n",
            "Requirement already satisfied: urllib3!=1.25.0,!=1.25.1,<1.26,>=1.21.1 in /usr/local/lib/python3.8/dist-packages (from requests->py-entitymatching) (1.24.3)\n",
            "Requirement already satisfied: certifi>=2017.4.17 in /usr/local/lib/python3.8/dist-packages (from requests->py-entitymatching) (2022.12.7)\n",
            "Requirement already satisfied: chardet<4,>=3.0.2 in /usr/local/lib/python3.8/dist-packages (from requests->py-entitymatching) (3.0.4)\n",
            "Building wheels for collected packages: py-entitymatching, py-stringsimjoin, py-stringmatching\n",
            "  Building wheel for py-entitymatching (setup.py) ... \u001b[?25l\u001b[?25hdone\n",
            "  Created wheel for py-entitymatching: filename=py_entitymatching-0.4.0-cp38-cp38-linux_x86_64.whl size=2650981 sha256=90190cecdabb3e6ffa2641e954537c0207200ea2dfd645d5a8d1182ac0dab27a\n",
            "  Stored in directory: /root/.cache/pip/wheels/cb/e7/dc/2b33e80855a70e58bbc60b31d3a5f22a93a3a3ef606eb50594\n",
            "  Building wheel for py-stringsimjoin (setup.py) ... \u001b[?25l\u001b[?25hdone\n",
            "  Created wheel for py-stringsimjoin: filename=py_stringsimjoin-0.3.2-cp38-cp38-linux_x86_64.whl size=4117987 sha256=7a2aca0e6bea9ac7281617a826425d9b7f4015d57bba34b2157c533031a324e1\n",
            "  Stored in directory: /root/.cache/pip/wheels/7f/61/96/0aa1d87a2d0a9329ea415ffaf74c875c9344434844177f2b62\n",
            "  Building wheel for py-stringmatching (setup.py) ... \u001b[?25l\u001b[?25hdone\n",
            "  Created wheel for py-stringmatching: filename=py_stringmatching-0.4.2-cp38-cp38-linux_x86_64.whl size=2191994 sha256=8167978491fd8fc46af8cbaeba7d14503dc03fd292bf8a680dffa572fc397909\n",
            "  Stored in directory: /root/.cache/pip/wheels/6d/01/57/0131e0a87fa6471ec265bd9777de2e789a4bd1248c279fa875\n",
            "Successfully built py-entitymatching py-stringsimjoin py-stringmatching\n",
            "Installing collected packages: PyPrind, py-stringmatching, jedi, py-stringsimjoin, py-entitymatching\n",
            "Successfully installed PyPrind-2.11.3 jedi-0.18.2 py-entitymatching-0.4.0 py-stringmatching-0.4.2 py-stringsimjoin-0.3.2\n"
          ]
        }
      ]
    },
    {
      "cell_type": "code",
      "source": [
        "from google.colab import drive\n",
        "drive.mount('/content/drive')"
      ],
      "metadata": {
        "colab": {
          "base_uri": "https://localhost:8080/",
          "height": 0
        },
        "id": "7lALaierEHEg",
        "outputId": "fd3435e7-d3ab-4ce9-a054-50784683e65f"
      },
      "execution_count": 2,
      "outputs": [
        {
          "output_type": "stream",
          "name": "stdout",
          "text": [
            "Mounted at /content/drive\n"
          ]
        }
      ]
    },
    {
      "cell_type": "code",
      "metadata": {
        "id": "RCzAyqDiZ5-d",
        "colab": {
          "base_uri": "https://localhost:8080/",
          "height": 0
        },
        "outputId": "04c7b0ee-d732-41f8-dba0-0cc4557d85c8"
      },
      "source": [
        "# Importing the libraries\n",
        "import sys\n",
        "import pandas as pd\n",
        "import os\n",
        "from google.colab import drive\n",
        "drive.mount('/content/gdrive')"
      ],
      "execution_count": 3,
      "outputs": [
        {
          "output_type": "stream",
          "name": "stdout",
          "text": [
            "Mounted at /content/gdrive\n"
          ]
        }
      ]
    },
    {
      "cell_type": "code",
      "metadata": {
        "id": "0rKhd_37C65k"
      },
      "source": [
        "path_variable = \"/content/gdrive/MyDrive/1 Dataset/Music\"\n",
        "method = \"/content/gdrive/MyDrive/1 Dataset/weights_music\""
      ],
      "execution_count": 4,
      "outputs": []
    },
    {
      "cell_type": "code",
      "metadata": {
        "id": "iOTylBSTYLEQ",
        "colab": {
          "base_uri": "https://localhost:8080/",
          "height": 0
        },
        "outputId": "a89c2830-5b51-4bbb-c54c-f10a37eace77"
      },
      "source": [
        "import py_entitymatching as em #match entities between two tables using supervised learning\n",
        "# Display the versions\n",
        "print('python version: ' + sys.version )\n",
        "print('pandas version: ' + pd.__version__ ) #data science/data analysis and machine learning tasks\n",
        "print('magellan version: ' + em.__version__ ) #Magellan provides how-to guides that tell users what to do in each EM scenario"
      ],
      "execution_count": 5,
      "outputs": [
        {
          "output_type": "stream",
          "name": "stdout",
          "text": [
            "python version: 3.8.16 (default, Dec  7 2022, 01:12:13) \n",
            "[GCC 7.5.0]\n",
            "pandas version: 1.3.5\n",
            "magellan version: 0.4.0\n"
          ]
        }
      ]
    },
    {
      "cell_type": "code",
      "metadata": {
        "id": "1vNlmQGBYLET",
        "colab": {
          "base_uri": "https://localhost:8080/",
          "height": 0
        },
        "outputId": "988a2375-4287-4b9d-efa8-5c7a4a28a0eb"
      },
      "source": [
        "# Load csv files as dataframes and set the key attribute in the dataframe\n",
        "path_A = '/content/gdrive/MyDrive/1 Dataset/Music/music1.csv'\n",
        "path_B = '/content/gdrive/MyDrive/1 Dataset/Music/music2.csv'\n",
        "A = em.read_csv_metadata(path_A, key='Sno')\n",
        "B = em.read_csv_metadata(path_B, key='Sno')\n",
        "\n",
        "# Display number of tuples in the datasets\n",
        "print('Number of tuples in A: ' + str(len(A)))\n",
        "print('Number of tuples in B: ' + str(len(B)))\n",
        "print('Number of tuples in A X B (i.e the cartesian product): ' + str(len(A)*len(B)))"
      ],
      "execution_count": 7,
      "outputs": [
        {
          "output_type": "stream",
          "name": "stderr",
          "text": [
            "WARNING:py_entitymatching.io.parsers:Metadata file is not present in the given path; proceeding to read the csv file.\n",
            "WARNING:py_entitymatching.io.parsers:Metadata file is not present in the given path; proceeding to read the csv file.\n"
          ]
        },
        {
          "output_type": "stream",
          "name": "stdout",
          "text": [
            "Number of tuples in A: 6907\n",
            "Number of tuples in B: 55923\n",
            "Number of tuples in A X B (i.e the cartesian product): 386260161\n"
          ]
        }
      ]
    },
    {
      "cell_type": "code",
      "metadata": {
        "id": "K6lIYGbgugE_",
        "colab": {
          "base_uri": "https://localhost:8080/",
          "height": 0
        },
        "outputId": "ec5e15e8-831c-4caf-8931-fb84fada9a95"
      },
      "source": [
        "# verify values in S\n",
        "\n",
        "d1 = dict()\n",
        "d2 = dict()\n",
        "\n",
        "t1 = A.to_numpy()\n",
        "t2 = B.to_numpy()\n",
        "\n",
        "for x in t1:\n",
        "  if(x[-1] in d1):\n",
        "    d1[x[-1]]+=1\n",
        "  else:\n",
        "    d1[x[-1]]=1\n",
        "\n",
        "for x in t2:\n",
        "  if(x[-1] in d2):\n",
        "    d2[x[-1]]+=1\n",
        "  else:\n",
        "    d2[x[-1]]=1\n",
        "\n",
        "print(\"d1 : \",d1)\n",
        "print(\"d2 : \",d2)"
      ],
      "execution_count": 9,
      "outputs": [
        {
          "output_type": "stream",
          "name": "stdout",
          "text": [
            "d1 :  {'Country': 1367, 'Pop': 1758, 'Other': 538, 'Dance': 952, 'Alternative': 484, 'Soundtrack': 397, 'Electronic': 211, 'Rock': 515, 'Hip-Hop': 685}\n",
            "d2 :  {'Dance': 8274, 'Other': 13135, 'Electronic': 4019, 'Soundtrack': 3594, 'Country': 8317, 'Rock': 3248, 'Pop': 7130, 'Alternative': 4806, 'Hip-Hop': 3400}\n"
          ]
        }
      ]
    },
    {
      "cell_type": "code",
      "metadata": {
        "id": "XPaC2dHKYLEk"
      },
      "source": [
        "import pickle #serializing and deserializing a Python object structure\n",
        "import numpy as np #working with arrays\n",
        "import torch #Torch is an open source ML library used for creating deep neural networks\n",
        "\n",
        "dbfile = open(\"/content/gdrive/MyDrive/1 Dataset/Music/files/feature_matrix\", 'rb')    \n",
        "cand_file = open(\"/content/gdrive/MyDrive/1 Dataset/Music/files/C\", 'rb')  \n",
        "S = pickle.load(dbfile) #serializing and de-serializing a Python object structure\n",
        "cand = pickle.load(cand_file)\n",
        "\n",
        "S = torch.tensor(S.values,dtype=torch.double) #multi-dimensional matrix containing elements of a single data type\n",
        "S = S[:,3:]\n",
        "# S = S.to_numpy(dtype=np.longdouble)\n",
        "device = torch.device(\"cuda:0\" if torch.cuda.is_available() else \"cpu\")\n",
        "\n",
        "# Initial weights would be 1/(num_attributes*num_sim_scores) due to add-to-1 constraint\n",
        "w_init  = (1 / S.shape[1] )\n",
        "# W = np.full((S.shape[0], S.shape[1]), w_init,dtype=np.longdouble)\n",
        "W = torch.DoubleTensor(S.shape[1],1).fill_(w_init) #multi-dimensional matrix containing elements of a single data type."
      ],
      "execution_count": 14,
      "outputs": []
    },
    {
      "cell_type": "code",
      "metadata": {
        "id": "fXsGWImAv3bh"
      },
      "source": [
        "# ith index of genre_groups denotes genre of ith record pair\n",
        "genre_groups = [] #used to split the data into groups based on some criteria\n",
        "for i in cand['ltable_Group']:\n",
        "    genre_groups.append(i) # appends an element to the end of the list"
      ],
      "execution_count": 15,
      "outputs": []
    },
    {
      "cell_type": "code",
      "metadata": {
        "id": "umeeQj0qrsJG"
      },
      "source": [
        "# ith row of RLS matrix will return RLS value of the ith record pair \n",
        "# return nx1 matrix, where n=number of record pairs \n",
        "def get_RLS(W,S):# Recursive Least Square #Returns the URL to the storage location of a data file or directory tracked in a DVC project\n",
        "    rls = torch.matmul(S,torch.square(W)) #performs matrix multiplications if both arguments are 2D and computes their dot product if both arguments are 1D \n",
        "    return rls\n",
        "    # return torch.diag(rls)\n",
        "\n",
        "def fair_calc(weights,S,flag,k): #function\n",
        "  \n",
        "  rls_matrix = get_RLS(weights,S)\n",
        "  cand['score'] = rls_matrix.numpy()\n",
        "  candy = cand.sort_values(by=['score'], ascending=False) #sorts a data frame in Ascending or Descending order of passed Column\n",
        "\n",
        "  d3 = dict()\n",
        "  d4 = dict()\n",
        "\n",
        "  temp = candy.to_numpy()\n",
        "  cnt = 0\n",
        "\n",
        "  for _id,pair in enumerate(temp):\n",
        "    if(_id>k):\n",
        "\n",
        "      break\n",
        "\n",
        "    if(pair[11] in d3):\n",
        "      d3[pair[11]]+=1\n",
        "    else:\n",
        "      d3[pair[11]]=1\n",
        "      \n",
        "    if(pair[20] in d4):\n",
        "      d4[pair[20]]+=1\n",
        "    else:\n",
        "      d4[pair[20]]=1\n",
        "    \n",
        "    if(pair[11]==(pair[20])):\n",
        "      cnt+=1\n",
        "  mini = -1\n",
        "  maxi = 1\n",
        "  d_skew = {}\n",
        "  flagy = 0\n",
        "  for d in d1.keys():\n",
        "    if(d in d3.keys()):\n",
        "      d_skew[d] = np.log( d3[d]*len(t1)/(d1[d]*k))\n",
        "    \n",
        "      if(flagy==0):\n",
        "        flagy+=1\n",
        "        mini = d_skew[d]\n",
        "        maxi = d_skew[d]\n",
        "      \n",
        "      mini = min(mini,d_skew[d])\n",
        "      maxi = max(maxi,d_skew[d])\n",
        "  \n",
        "  if(flag):\n",
        "    print(\"Group distribution in result : \",d3)\n",
        "    print(\"Skew metrix : \", maxi-mini)\n",
        "\n",
        "  return maxi-mini\n",
        "\n",
        "def get_precomputed_values(W,S,phi,tau):\n",
        "    numerator = torch.exp(phi*get_RLS(W,S)) - torch.exp(phi* (tau-get_RLS(W,S)))\n",
        "    # print(numerator)\n",
        "    denominator = torch.exp(phi*get_RLS(W,S)) + torch.exp(phi* (tau-get_RLS(W,S)))\n",
        "    return torch.divide(numerator,denominator)\n",
        "\n",
        "def derivative_loss_function(W,S,j,precomputed_values):\n",
        "    m = torch.matmul(torch.transpose(S[:,j].reshape(-1,1),0,1),precomputed_values)\n",
        "    der = 2 * W[j,0] * m\n",
        "    return der\n",
        "\n",
        "def algorithm_gradient_descent(W,S,learning_rate,iterations,phi,tau,flag_tweak,k):\n",
        "\n",
        "    for i in range(iterations):\n",
        "        W_new = torch.zeros(W.shape) #Returns a tensor filled with the scalar value 0 , with the shape defined by the variable argument size \n",
        "        sum_W_new = 0\n",
        "        precomputed_values_em = get_precomputed_values(W,S,phi,tau)\n",
        "        for j in range(W.shape[0]):\n",
        "            loss_value = derivative_loss_function(W,S,j,precomputed_values_em)\n",
        "            W_new[j,0] = W[j,0] - learning_rate * loss_value\n",
        "            sum_W_new += W_new[j,0]\n",
        "        for j in range(W.shape[0]):\n",
        "            W_new[j,0] = W_new[j,0] / float(sum_W_new)\n",
        "        W = W_new.double()\n",
        "        if((i+1)%10==0):\n",
        "          print(\"Iteration \" + str(i+1) + \" completed \")        \n",
        "        \n",
        "        if(flag_tweak):\n",
        "          f_val = fair_calc(W,S,False,k)\n",
        "          epsi = 0.1\n",
        "\n",
        "          for j in range(W.shape[0]):\n",
        "            W[j,0] += epsi\n",
        "            f1 = fair_calc(W,S,False,k)\n",
        "            \n",
        "            W[j,0] -= 2*epsi\n",
        "            f2 = fair_calc(W,S,False,k)\n",
        "            # print(f1,f2,f_val)\n",
        "            if(f_val<=f1 and f_val<=f2):\n",
        "              # print(\"val\")\n",
        "              W[j,0] += epsi\n",
        "\n",
        "            elif(f1<=f2 and f1<=f_val):\n",
        "              # print(\"f1\")\n",
        "              W[j,0] += 2*epsi\n",
        "\n",
        "    return W"
      ],
      "execution_count": 16,
      "outputs": []
    },
    {
      "cell_type": "code",
      "metadata": {
        "id": "OA5peIsibE4_",
        "colab": {
          "base_uri": "https://localhost:8080/",
          "height": 0
        },
        "outputId": "3fdb2634-1d1e-42be-c676-ae5c4bcbab84"
      },
      "source": [
        "#No learning\n",
        "print(W)\n",
        "fair_calc(W,S,True,500)"
      ],
      "execution_count": 18,
      "outputs": [
        {
          "output_type": "stream",
          "name": "stdout",
          "text": [
            "tensor([[0.0357],\n",
            "        [0.0357],\n",
            "        [0.0357],\n",
            "        [0.0357],\n",
            "        [0.0357],\n",
            "        [0.0357],\n",
            "        [0.0357],\n",
            "        [0.0357],\n",
            "        [0.0357],\n",
            "        [0.0357],\n",
            "        [0.0357],\n",
            "        [0.0357],\n",
            "        [0.0357],\n",
            "        [0.0357],\n",
            "        [0.0357],\n",
            "        [0.0357],\n",
            "        [0.0357],\n",
            "        [0.0357],\n",
            "        [0.0357],\n",
            "        [0.0357],\n",
            "        [0.0357],\n",
            "        [0.0357],\n",
            "        [0.0357],\n",
            "        [0.0357],\n",
            "        [0.0357],\n",
            "        [0.0357],\n",
            "        [0.0357],\n",
            "        [0.0357]], dtype=torch.float64)\n",
            "Group distribution in result :  {'Alternative': 111, 'Dance': 35, 'Country': 246, 'Rock': 79, 'Other': 5, 'Hip-Hop': 7, 'Pop': 12, 'Electronic': 6}\n",
            "Skew metrix :  3.514470723052824\n"
          ]
        },
        {
          "output_type": "execute_result",
          "data": {
            "text/plain": [
              "3.514470723052824"
            ]
          },
          "metadata": {},
          "execution_count": 18
        }
      ]
    },
    {
      "cell_type": "code",
      "metadata": {
        "id": "Z--XMvBcWYRA",
        "colab": {
          "base_uri": "https://localhost:8080/",
          "height": 0
        },
        "outputId": "05f72256-2d60-4e7a-c95c-bb65cb6ba479"
      },
      "source": [
        "#No tweak of weights\n",
        "weights1 = algorithm_gradient_descent(W,S,1e-5,100,-100,1,False,500) # gradient descent algorithm is an approximate and iterative method for mathematical optimization"
      ],
      "execution_count": 19,
      "outputs": [
        {
          "output_type": "stream",
          "name": "stdout",
          "text": [
            "Iteration 10 completed \n",
            "Iteration 20 completed \n",
            "Iteration 30 completed \n",
            "Iteration 40 completed \n",
            "Iteration 50 completed \n",
            "Iteration 60 completed \n",
            "Iteration 70 completed \n",
            "Iteration 80 completed \n",
            "Iteration 90 completed \n",
            "Iteration 100 completed \n"
          ]
        }
      ]
    },
    {
      "cell_type": "code",
      "metadata": {
        "id": "NStwmy5_dwe0",
        "colab": {
          "base_uri": "https://localhost:8080/",
          "height": 0
        },
        "outputId": "5ad44503-0307-4fde-fa46-159a637d1a2a"
      },
      "source": [
        "print(weights1)\n",
        "fair_calc(weights1,S,True,500)"
      ],
      "execution_count": 20,
      "outputs": [
        {
          "output_type": "stream",
          "name": "stdout",
          "text": [
            "tensor([[6.8612e-05],\n",
            "        [3.3806e-06],\n",
            "        [9.0364e-10],\n",
            "        [2.6130e-06],\n",
            "        [1.5958e-06],\n",
            "        [1.4624e-06],\n",
            "        [3.2026e-09],\n",
            "        [2.6926e-07],\n",
            "        [4.0319e-02],\n",
            "        [9.5047e-01],\n",
            "        [8.5094e-08],\n",
            "        [8.6403e-03],\n",
            "        [4.1154e-04],\n",
            "        [6.3659e-05],\n",
            "        [5.8570e-09],\n",
            "        [8.7798e-06],\n",
            "        [2.1046e-06],\n",
            "        [8.9070e-08],\n",
            "        [3.0561e-06],\n",
            "        [9.8269e-08],\n",
            "        [1.1543e-08],\n",
            "        [3.1129e-09],\n",
            "        [4.3995e-08],\n",
            "        [8.4605e-10],\n",
            "        [2.4957e-07],\n",
            "        [2.2925e-10],\n",
            "        [6.5277e-09],\n",
            "        [1.5063e-11]], dtype=torch.float64)\n",
            "Group distribution in result :  {'Country': 364, 'Rock': 11, 'Pop': 51, 'Other': 39, 'Dance': 36}\n",
            "Skew metrix :  2.523051658778157\n"
          ]
        },
        {
          "output_type": "execute_result",
          "data": {
            "text/plain": [
              "2.523051658778157"
            ]
          },
          "metadata": {},
          "execution_count": 20
        }
      ]
    },
    {
      "cell_type": "code",
      "metadata": {
        "id": "5GK2PZlmW2KA",
        "colab": {
          "base_uri": "https://localhost:8080/",
          "height": 0
        },
        "outputId": "3aa50c22-0756-418a-914a-886030124931"
      },
      "source": [
        "#Tweak weights\n",
        "weights2 = algorithm_gradient_descent(W,S,1e-5,100,-100,1,True,500)"
      ],
      "execution_count": 21,
      "outputs": [
        {
          "output_type": "stream",
          "name": "stdout",
          "text": [
            "Iteration 10 completed \n",
            "Iteration 20 completed \n",
            "Iteration 30 completed \n",
            "Iteration 40 completed \n",
            "Iteration 50 completed \n",
            "Iteration 60 completed \n",
            "Iteration 70 completed \n",
            "Iteration 80 completed \n",
            "Iteration 90 completed \n",
            "Iteration 100 completed \n"
          ]
        }
      ]
    },
    {
      "cell_type": "code",
      "metadata": {
        "id": "KtePd7T-dyQE",
        "colab": {
          "base_uri": "https://localhost:8080/",
          "height": 0
        },
        "outputId": "680c9da4-1295-4eff-fdf9-52332aa9e4be"
      },
      "source": [
        "print(weights2)\n",
        "fair_calc(weights2,S,True,500)"
      ],
      "execution_count": 22,
      "outputs": [
        {
          "output_type": "stream",
          "name": "stdout",
          "text": [
            "tensor([[ 0.0979],\n",
            "        [ 0.0996],\n",
            "        [ 0.1040],\n",
            "        [ 0.1004],\n",
            "        [ 0.1063],\n",
            "        [ 0.1059],\n",
            "        [ 0.0960],\n",
            "        [ 0.1007],\n",
            "        [-0.8705],\n",
            "        [ 1.1412],\n",
            "        [ 0.1923],\n",
            "        [ 0.6219],\n",
            "        [ 0.0408],\n",
            "        [-0.0311],\n",
            "        [ 0.1035],\n",
            "        [-0.0018],\n",
            "        [ 0.1035],\n",
            "        [ 0.0192],\n",
            "        [ 0.0181],\n",
            "        [ 0.0191],\n",
            "        [ 0.1119],\n",
            "        [ 0.0894],\n",
            "        [-0.0396],\n",
            "        [ 0.1048],\n",
            "        [ 0.0542],\n",
            "        [-0.0143],\n",
            "        [ 0.2311],\n",
            "        [ 0.0954]], dtype=torch.float64)\n",
            "Group distribution in result :  {'Other': 40, 'Country': 299, 'Rock': 11, 'Pop': 51, 'Alternative': 100}\n",
            "Skew metrix :  2.3263413645321025\n"
          ]
        },
        {
          "output_type": "execute_result",
          "data": {
            "text/plain": [
              "2.3263413645321025"
            ]
          },
          "metadata": {},
          "execution_count": 22
        }
      ]
    },
    {
      "cell_type": "code",
      "metadata": {
        "id": "n0vVl1MZ-H5c"
      },
      "source": [
        "def comp_overlap(w1,w2,k):\n",
        "  rls_matrix = get_RLS(w1,S)\n",
        "  cand['score'] = rls_matrix.numpy()\n",
        "  candy1 = cand.sort_values(by=['score'], ascending=False)\n",
        "\n",
        "  # print(candy)\n",
        "\n",
        "  dw1 = dict()\n",
        "  temp1 = candy1.to_numpy()\n",
        "  \n",
        "  rls_matrix = get_RLS(w2,S)\n",
        "  cand['score'] = rls_matrix.numpy()\n",
        "  candy2 = cand.sort_values(by=['score'], ascending=False)\n",
        "\n",
        "  # print(candy)\n",
        "  dw2 = dict()\n",
        "  temp2 = candy2.to_numpy()\n",
        "  overlp = 0\n",
        "  dname = {}\n",
        "\n",
        "  \n",
        "  for _i,i in enumerate(temp1):\n",
        "    if(_i>k-1):\n",
        "      break\n",
        "    dname[str(i[1])+\"#\"+str(i[2])] = 1\n",
        "\n",
        "  for _j,j in enumerate(temp2):\n",
        "      if(_j>k-1):\n",
        "        break\n",
        "      if(str(j[1])+\"#\"+str(j[2]) in  dname.keys()):\n",
        "        overlp+=1\n",
        "  \n",
        "  return overlp\n"
      ],
      "execution_count": 23,
      "outputs": []
    },
    {
      "cell_type": "code",
      "metadata": {
        "id": "QtaSH2eJOBkb",
        "colab": {
          "base_uri": "https://localhost:8080/",
          "height": 0
        },
        "outputId": "c27c45f4-da52-4f84-ea29-02690528ac5a"
      },
      "source": [
        "i=0\n",
        "w_list = []\n",
        "\n",
        "for k in [250,500,750,1000]:\n",
        "  w_list.append(algorithm_gradient_descent(W,S,1e-5,100,-100,1,True,k)) #appends an element to the end of the list\n",
        "  i+=1"
      ],
      "execution_count": 24,
      "outputs": [
        {
          "output_type": "stream",
          "name": "stdout",
          "text": [
            "Iteration 10 completed \n",
            "Iteration 20 completed \n",
            "Iteration 30 completed \n",
            "Iteration 40 completed \n",
            "Iteration 50 completed \n",
            "Iteration 60 completed \n",
            "Iteration 70 completed \n",
            "Iteration 80 completed \n",
            "Iteration 90 completed \n",
            "Iteration 100 completed \n",
            "Iteration 10 completed \n",
            "Iteration 20 completed \n",
            "Iteration 30 completed \n",
            "Iteration 40 completed \n",
            "Iteration 50 completed \n",
            "Iteration 60 completed \n",
            "Iteration 70 completed \n",
            "Iteration 80 completed \n",
            "Iteration 90 completed \n",
            "Iteration 100 completed \n",
            "Iteration 10 completed \n",
            "Iteration 20 completed \n",
            "Iteration 30 completed \n",
            "Iteration 40 completed \n",
            "Iteration 50 completed \n",
            "Iteration 60 completed \n",
            "Iteration 70 completed \n",
            "Iteration 80 completed \n",
            "Iteration 90 completed \n",
            "Iteration 100 completed \n",
            "Iteration 10 completed \n",
            "Iteration 20 completed \n",
            "Iteration 30 completed \n",
            "Iteration 40 completed \n",
            "Iteration 50 completed \n",
            "Iteration 60 completed \n",
            "Iteration 70 completed \n",
            "Iteration 80 completed \n",
            "Iteration 90 completed \n",
            "Iteration 100 completed \n"
          ]
        }
      ]
    },
    {
      "cell_type": "code",
      "metadata": {
        "id": "GkQOkbSyOK-c"
      },
      "source": [
        "weight_file = open(method+'weights_list', 'wb') \n",
        "pickle.dump(w_list, weight_file) #to store the object data to the file\n",
        "weight_file.close()"
      ],
      "execution_count": 25,
      "outputs": []
    },
    {
      "cell_type": "code",
      "metadata": {
        "id": "kYAEmxgl91sS"
      },
      "source": [
        "weight_file = open(method+'weights1', 'wb') \n",
        "pickle.dump(weights1, weight_file) \n",
        "weight_file.close()\n",
        "\n",
        "weight_file = open(method+'weights2', 'wb') \n",
        "pickle.dump(weights2, weight_file) \n",
        "weight_file.close()"
      ],
      "execution_count": 26,
      "outputs": []
    },
    {
      "cell_type": "code",
      "metadata": {
        "id": "u6Z8VvReq1b9"
      },
      "source": [
        "weight_file = open(method+'weights1', 'rb') \n",
        "weights1 = pickle.load(weight_file)\n",
        "\n",
        "weight_file = open(method+'weights2', 'rb') \n",
        "weights2 = pickle.load(weight_file)"
      ],
      "execution_count": 27,
      "outputs": []
    },
    {
      "cell_type": "code",
      "metadata": {
        "id": "g6FJzxmaYLEn",
        "colab": {
          "base_uri": "https://localhost:8080/",
          "height": 0
        },
        "outputId": "f05cd448-d1bc-40a1-e02d-44e15db5d81a"
      },
      "source": [
        "l = get_RLS(weights2,S)\n",
        "se = set()\n",
        "print(l.shape)\n",
        "for i in range(l.shape[0]):\n",
        "    se.add(float(l[i,0]))\n",
        "print(se)\n",
        "print(len(se))"
      ],
      "execution_count": 28,
      "outputs": [
        {
          "output_type": "stream",
          "name": "stdout",
          "text": [
            "torch.Size([12829, 1])\n",
            "{0.15722333010601375, 1.2170469871510008, 0.3683803241299728, 1.2227987126681263, 1.0348041878863512, 0.7730500730782772, 1.2723908053539539, 0.7487350467586147, 0.45336476645368506, 0.6012574624209677, 0.3856520507189316, 1.0372354888745576, 0.1621257135964066, 0.15294374140924755, 0.3243007714692416, 0.4738877327878603, 0.13911520387121454, 0.48529200253491234, 0.17619292598627306, 0.3792454139158433, 0.4138008812765243, 0.44108132269195227, 0.4488230394393189, 0.5255317559725521, 0.12991720876348423, 0.9356760555711189, 0.44118676039836896, 0.3204498578256867, 0.5159163127281168, 0.4807520311784479, 1.1246250226677226, 0.3038410556884984, 0.1504315924920032, 0.16833622586655753, 0.1290883543267363, 0.1400931271216628, 0.13021289258663063, 0.15937947856132698, 0.12339187990383496, 0.16266954726088217, 0.19209650313483453, 0.13046138357381667, 0.4798290408310325, 0.14005867929458393, 0.11002205582987928, 0.14700091134428567, 0.4401044593223588, 0.24544077835312647, 0.3842902707181619, 0.3795205164854985, 0.3205218362131597, 0.3783309428083464, 0.5288466958860786, 0.16030537967200098, 0.47331761953288287, 0.09523773746664692, 0.1503597540990974, 0.3811985052826664, 0.1900322716174948, 0.537122311953906, 0.29733021808036125, 0.18037114285257855, 0.188445127562005, 0.17220230025949046, 0.776496830814457, 0.1307028912814409, 0.12065216612144164, 0.34343144141113063, 0.36279696880410134, 0.19115165095058378, 0.3228439550237781, 0.48581000846758476, 0.19301360279954244, 0.37080073459834045, 0.3924924239408441, 0.4331844641275922, 0.20487875075075485, 1.0451302452452769, 0.1256147767983463, 0.08670918443080486, 0.3306155498581555, 0.17416719751817586, 0.7122582796547886, 0.518694185227032, 0.557710791773639, 0.3540211632212459, 0.1311363324023678, 0.15943106227743814, 0.20722836258694627, 0.3869348238884598, 0.17770673974992263, 0.38411981008562746, 0.380405177735096, 0.1768550502110764, 0.5205833385419845, 0.45628374142669564, 0.15252224407905907, 0.1282221355440148, 0.3136493968243871, 0.4098107697571708, 0.14413669351608296, 0.24736211141793665, 0.3396078402833111, 0.351328328257314, 0.14811643508316738, 0.3180481431604203, 0.5173230619288443, 0.1795614724195333, 0.13851505024086216, 0.1452176840311453, 0.10564243430753359, 0.20040671292682086, 0.1559662348368179, 0.13136382385775044, 0.12133184643690606, 0.2107922286172653, 0.2428364348639321, 0.4839364387746762, 0.3768018420963353, 0.5220973411374096, 0.5164948675961822, 0.2465818048482051, 0.3184531030125257, 0.5388214470972301, 0.3206022255623549, 0.4585987921861724, 0.27162024973959065, 0.12772969802008788, 0.1405835166673843, 0.1177455623486524, 0.5170451539546153, 0.1150347858358205, 0.2546427419203013, 1.1242325615366613, 0.4187546683149406, 0.41927777373576586, 0.3765895671077143, 0.48232567390749603, 0.3847921382419786, 1.0353076222657298, 1.0369919629040785, 0.1427203194886005, 0.1411913811429243, 0.4372452973519997, 0.2033828943551833, 0.2765833060993651, 0.8088606889149156, 0.39940449168057424, 0.3683113986685137, 0.2820845589060107, 0.5414610361780953, 0.14225512496379988, 0.26344520611318967, 0.34768279886093023, 0.24504873561657814, 0.4191579620582449, 0.5161702360555723, 0.18698191312697626, 0.3487230384025058, 0.17077188042317912, 0.432926807792992, 0.3300184471620151, 0.7641329953359612, 0.5223200374958561, 0.2938541009639429, 1.0416713398386401, 0.08687932723848524, 0.29931612554974096, 0.12142847098839527, 0.21110917967130632, 1.035139409089585, 0.4405042442135519, 0.7223821066901627, 0.38097085502523664, 1.0348858247513248, 0.48150006607136586, 0.38346038148619577, 0.6686432565642172, 0.43888890755601373, 0.1403029698070101, 0.18687980092195047, 0.1967761988282747, 0.13866135939064975, 0.30162448806411124, 0.18436496662368557, 0.30493538145187943, 0.23845432783681644, 0.24624535908274595, 0.23262594143817253, 0.7388042860837674, 0.5203977977609213, 0.5087946226511387, 0.9240694943324154, 0.5230222080365909, 0.5171674964354137, 0.15532418474783008, 0.3840791857987535, 0.4184127132546957, 0.20974887946508097, 0.08678051138476439, 0.3946955697519079, 0.6098762724770004, 0.46324973001339803, 0.4559253939842836, 0.38677574924122526, 0.32418735000326904, 0.32069341408245033, 0.5196933020356144, 0.12859149503450257, 0.36619476837966064, 0.3685904615503796, 0.15140639775324533, 0.18855094869537242, 0.12230677296185649, 0.14880622435067198, 0.2094085091644759, 0.38844705267887053, 0.3873654708040563, 0.4860371299813996, 0.3804667487893277, 0.4314558435920582, 0.1643757981941933, 0.4330434881004486, 0.8674793241995521, 0.3134800221938845, 0.5186250657522165, 0.32556404293935187, 0.38129876856847417, 0.42190069449698725, 0.5220367859990711, 0.6718578591421739, 0.585017929477781, 0.10981605957280056, 0.5189229226673349, 0.5594306761124438, 0.4689310916450916, 0.3805595908812359, 0.48344687736337083, 0.21250274820572532, 0.6230924894717436, 0.5193919646590774, 0.24122515045176288, 0.13297514134342664, 0.48143973312096905, 0.6982181134903226, 0.48441220238656596, 0.24934389559152256, 0.1661484585960091, 0.13881873468199776, 0.14200180394595227, 0.21517517479002654, 0.14640655310875791, 0.21975649744582545, 0.07838202257518764, 0.12708387523949247, 0.14548833979731432, 0.44124800627016036, 0.4387157556057161, 0.46839426530966327, 0.5600619676582703, 0.5991772323241087, 0.5129234796271293, 0.16325880730454087, 0.09904915161284243, 0.11081576743941944, 0.10329089093148645, 0.389323541649524, 0.10026320421019029, 0.4745938340122337, 0.253619418361472, 0.3209375623732507, 0.4624061038771055, 1.047678370596756, 0.32239769773243754, 0.5901491684524237, 0.5160355081452755, 0.22515009975934847, 0.13890846518527852, 0.20193511628274785, 0.7369938496363135, 1.01348386000657, 0.5418804432835815, 0.41335418426311343, 0.536618073448839, 0.38067785151591615, 0.35974744068690634, 1.0360511236454537, 1.1545546704654763, 1.035421509295649, 1.0400182178194726, 0.4735058369584416, 0.3124877941896022, 0.3619495806775978, 0.35558797140651077, 1.2252343948968873, 1.0354142604832932, 0.469048554023518, 0.3205175943836615, 0.4455824788548192, 0.4266669458453909, 0.312887592916518, 0.6771953355017151, 0.30842863375890645, 0.4535846139653709, 0.5527895594431278, 0.5174030903238112, 1.273221641289539, 0.5590951864789958, 0.5194496795046434, 0.38077290029325445, 0.13132224479697666, 0.22200319613153166, 0.16419564711846515, 0.2458460798403588, 0.1291644332477313, 0.3307191854907208, 0.7781969169604582, 0.20797288083609558, 0.11314250072644966, 0.31559278691060055, 0.3404977697920861, 0.38381653349021627, 0.3809120649925463, 0.36491721350805356, 0.18758054535496477, 0.10028317206140995, 0.15615651326461366, 0.46743150157110186, 0.1849795406601982, 0.08492770336825854, 0.38625894625404517, 1.0375683155812339, 0.2027691839949579, 0.39535407344044915, 0.3021263157527831, 0.3370437756952141, 0.7171932170093366, 0.14301109344031981, 0.5570684615647375, 0.3171192537325548, 0.5048661511634388, 0.12168386470704542, 0.19682199774424086, 0.3524020814094658, 0.3424701499763681, 0.20029709222894382, 0.2140248183173344, 0.2903566128919624, 0.33601851499394925, 0.3962027046948438, 0.3839652371833611, 0.14727818800270526, 0.13121599617710827, 0.19260837874771575, 0.3154552305667267, 0.384299004222271, 0.5407282636055496, 0.10877209492275602, 0.22202256918945482, 0.14332969746381355, 0.421871088337783, 0.24482495791775022, 1.035313605634004, 1.0383864272104424, 0.2166388589745466, 0.3778450903308922, 0.3101104105230132, 0.11583905250990185, 0.10440059996489766, 0.4398888265591699, 0.14939009776180576, 0.5447906707346194, 0.4379594275297679, 0.37966834911869957, 0.12873930856997323, 1.1065213602432376, 1.0392231236969163, 0.5306064270078527, 0.7779172936120052, 0.7038374423345307, 0.37031054108512235, 0.18366059266121665, 0.11679859499092901, 0.18516726840738715, 0.16450010613165875, 0.15220551857491701, 0.12786296584916487, 0.1769308464592679, 0.19064804803315058, 0.23983065465794606, 0.17591715070176436, 0.13508993641901443, 0.17760132814037113, 0.23724799360894028, 0.3151140541200957, 1.0417391844915784, 0.11021700839381442, 0.1169168198983218, 0.4433867823326767, 0.5725975919910655, 0.3829552529004033, 0.36252774535854965, 0.3882676972251101, 0.22726888299137094, 0.5163789054666272, 1.0460695866329848, 1.0461792577868214, 0.15763425138337073, 0.33549039829525457, 0.4332868198494761, 0.3612199183752164, 0.42154849023012664, 0.6182695992574846, 0.3894374002716855, 0.5375919629539009, 0.700792846135187, 0.733053118134578, 0.6866105533363086, 0.386957225158444, 0.387167449925066, 0.5147510869128312, 0.3635832351068232, 0.11209759926370655, 0.47153216197891207, 0.41128121120697625, 0.4586995925161956, 0.17326607492949817, 0.5355236139131174, 0.3812229699384242, 0.5221502438924726, 0.3811718125026807, 1.2364127976700028, 1.033949527577054, 0.655950570331996, 0.3789024742068964, 0.486903265505774, 0.37666551877430837, 0.09259555551211597, 0.5603167172342265, 0.383047138692572, 0.11530409083274086, 0.15218328296691094, 0.5131833922686919, 0.5823479991034909, 0.16221364560812326, 0.10499463064899253, 0.158449050419887, 0.1534996896732647, 0.4271737799483448, 0.22439310551047514, 0.1591285888597266, 0.8135769651480418, 1.0490926020524798, 0.5352451002269955, 0.38334540491487973, 0.14635834863139338, 0.24530818724530348, 0.448667865887824, 0.3790892462462942, 0.16413137892003618, 0.5208198734331451, 1.0318863509807603, 0.3657232245993084, 0.15261597185699521, 0.44035905566265043, 0.11442355441649392, 0.12303216858413572, 0.09017707710668114, 0.4027144592885019, 0.20960249336317593, 0.5295780547692437, 0.7649625900959598, 0.28162043747898624, 0.6568615219303041, 0.31677273191979766, 0.3620484189653436, 0.15157462994917623, 0.4592946080314843, 0.21924463690878837, 0.4452775091991634, 0.8615948555915247, 0.4319021134213406, 1.2290240273238078, 0.3120086084815554, 0.2448962458309259, 0.5157366228879442, 0.17064450860720806, 0.36655366028594155, 0.239975553353386, 0.4078842857122961, 0.2511068345450273, 0.33292879979822526, 0.47712247267540814, 0.4446934533869222, 0.1508101649436075, 0.14474703624294744, 0.3636954089810946, 0.4271238938041542, 1.2335480034677868, 0.12081416600447897, 0.3805442007909845, 1.0407698589448613, 0.3807175588640511, 0.17047243876426632, 0.42526368850100693, 0.3789028428866622, 0.4871996889083409, 0.1062954744719495, 0.26370761813586663, 0.6591155323121698, 0.10949527029732349, 1.0076156144918955, 1.0354601741921656, 0.09777221679713013, 0.46965567030652866, 0.3160621521597793, 0.23246961820571843, 0.438039950060454, 1.0371539529490608, 1.0392339390992535, 0.3268898280263795, 0.5130687107794668, 0.1267448305885574, 0.10904555749774444, 0.15000989805949103, 0.17231399753871954, 0.7732467651307351, 0.4269164714974485, 0.15542263169155432, 0.15858510970919368, 0.17949392589434873, 0.1614474593161259, 0.3446257991758116, 0.3832541417205234, 1.0401395511267273, 0.45314028594495875, 0.30144903186940036, 0.18300721740908893, 0.149259765589232, 0.4859060592707529, 0.552538827129758, 0.43738105816624473, 0.3283317762387104, 0.3063741164596057, 0.31509243803207926, 0.7849128606401224, 0.17819355586412955, 0.13580245449860529, 0.5091059873434348, 0.3607574729251523, 0.6750860387604577, 0.26555236783159714, 0.10241604606764242, 0.0850257668916261, 0.13040403867152278, 0.23707559217827662, 0.39988171378606335, 0.912110803216773, 0.1806456316541688, 0.31965319104415507, 0.3263229159836596, 0.35491100847212187, 0.3477986421860189, 1.0359452548256554, 0.4052371332124878, 0.3777729080415904, 0.27311574556589224, 0.7746470189197544, 0.12367977479289824, 0.3788068468286045, 0.1739374237265227, 0.12952846430527118, 0.3872830670911047, 0.1669261009143317, 0.3168460809767102, 0.29505655380617357, 0.5591679425351086, 0.7415969928387907, 0.6075188807340308, 1.0355094683249004, 1.4237107873084338, 0.3806539049330273, 1.4229679232467523, 0.1845189497769263, 1.3571683253628777, 0.3197683132677352, 0.4768610409578909, 0.3064046946839164, 0.3796755903222009, 0.1298097642868739, 0.47335702171342964, 0.7647039623921795, 0.08913016147876751, 0.3316974574240796, 0.1583681307561257, 0.3613837614099204, 0.5634949666652465, 0.21953566158043758, 0.9514650499497184, 0.5184345881276049, 0.24162639564314375, 0.23238067838541682, 1.039995959664623, 0.2785056512322997, 0.4682628731461507, 0.12957511466039903, 0.42868023800892513, 0.2791434985734635, 0.4270081151440983, 0.43150043001987975, 0.15102995103536793, 0.15190440434021363, 0.8132039542155142, 0.14913344308653412, 0.16019784892583336, 0.23885473169130525, 0.24473322730995453, 0.08922284244326353, 0.1280882670058792, 0.1948142120890393, 0.3792152972818377, 0.15177988028773062, 0.15609865363009334, 0.5280280951255608, 0.3960994266567158, 1.037958161927791, 0.46657544695844166, 0.6615637071693723, 0.2870854742305451, 0.4176700485390452, 1.0406573126304661, 0.7872338823273219, 0.46162143431597735, 0.5108766420321919, 0.45423381390217393, 0.09196136834936346, 0.8927018719200648, 0.5406682737301601, 0.08014266654232716, 0.24349300578097982, 0.5411804200597778, 0.3280373030787051, 0.5068344494383099, 0.25001820489580395, 0.1323517433808037, 0.4109769322130832, 0.4405707390342711, 0.1547936632312695, 0.3107324643081277, 0.24850235944350269, 0.4175568921370107, 0.08442323201001806, 0.37407624880388163, 0.4067094252699098, 0.15077746598805725, 0.30120253846735473, 0.13545171232321046, 0.48563957878698055, 0.25966688820607736, 0.3313251126717423, 0.4341453444196977, 0.42749535601620725, 0.3305399644440357, 0.15387168896557857, 0.20611573406395953, 0.08961498800386544, 0.45091845948428333, 0.4739281901525951, 0.3812817158964583, 0.1857528799981003, 1.0407806743471986, 0.2502780345012269, 0.5458782223643283, 0.5170865551462128, 0.20872278583833417, 0.4277680933260623, 0.5226516491252567, 0.07641588632941827, 0.2875601161525787, 0.10418739981206977, 0.44115480666276474, 0.4822451005586898, 0.4600560520117695, 0.5190569238090699, 0.23776367863784795, 0.15558360855438788, 0.13935968078010016, 0.16603319306398542, 0.14241127787769212, 0.1774098786488386, 0.18830300163361055, 0.1370737896584698, 0.37980974304007287, 0.11948094739961998, 0.5013699338411923, 0.45847320752610193, 0.44070982918932095, 1.1281613815570026, 1.226462929612363, 0.5358933826834041, 0.42727716747821576, 0.7896182778642847, 0.5173151195135611, 0.3316916103220086, 0.11654699693585312, 0.11466125550936167, 0.08325713758819885, 0.08443195134139768, 0.38402430587254655, 0.2423774693758332, 1.0373725639703681, 0.10434619534057671, 0.11965575593396549, 0.5361762998487191, 0.20645064783266204, 0.5187647448783107, 0.40643918805677054, 0.13039810542275695, 0.48579738583594767, 0.5224047047952884, 0.18730921018696894, 0.3051764364735092, 0.4277224090847439, 0.3222153907383144, 0.519926573443321, 0.36011214044395656, 0.5260676306249655, 0.5064836510656511, 0.32448028761226466, 0.3444984080133834, 0.5855924572137005, 0.5572505106595825, 0.15877967618628175, 0.5046267960391303, 0.5501440366591593, 0.3830205758346868, 0.5181640656999208, 0.7074125737498208, 0.750009160351379, 0.4977631233511881, 0.6869451978892409, 0.33951729880210596, 0.12142212143542665, 0.5203926312105449, 0.5159455861655187, 0.34579360501202017, 0.381150859475199, 0.4272611628142388, 0.24587800627612094, 0.10283979404719074, 0.3049854240018959, 1.2379827279716238, 0.7491749650284952, 0.37270905192834825, 0.19503304306002525, 0.4413038464934393, 0.19781320386096427, 0.19023518291364697, 0.1430008980393153, 0.17291334000298933, 0.1449557076343672, 0.16424799256520886, 0.1413773240460762, 0.1445279094098551, 1.039647837836573, 0.12600187202966553, 0.5585415540532397, 0.5225328297057966, 0.3299148421586075, 0.38756844556787695, 0.7566994904899051, 0.32014394495088294, 0.5166676174801292, 0.3106169438858164, 1.1052689702231195, 1.0369887035249807, 0.3664242740109458, 0.46996104545046913, 0.1545606251620013, 0.11275338765263558, 0.30254108299553684, 0.09046421184206525, 0.11876761941304241, 0.43871887063650267, 0.4490454466400863, 0.180298968448243, 0.4409679709251077, 0.5392028240444213, 0.43791116533702534, 0.8648529779085246, 0.201341477466962, 0.32056193554949514, 0.3015075771224252, 0.5952032145505015, 0.16878404143586048, 0.3446990490772634, 0.14533452425870824, 0.36763542753233186, 0.3423648152527156, 0.36842548911357714, 0.3235783243050682, 0.7368340640153601, 1.4265346537568657, 0.16539938925366177, 0.4195619386644693, 0.17800544423245118, 0.3901460450567918, 0.33285917086756106, 0.15188132251443437, 0.5192076928785083, 1.0194047660785783, 0.17385033637106004, 0.1640244687259415, 0.12233456167939911, 0.11882193607311171, 0.08989389356779816, 0.2223464164131284, 0.46962598370822356, 0.4051864796899617, 0.2455088380478522, 0.4328093140622193, 0.21632820824426774, 1.2291971004786706, 1.0383728989090446, 0.15806263880046856, 0.6719912309270722, 0.38093988441255616, 0.20122626421242337, 0.17170611973676905, 0.15772120968566547, 0.16650131043042712, 0.12958532970778755, 0.38070900987962114, 0.1961304924362792, 0.7870736008223309, 0.1683978999797879, 0.5934547575814434, 0.5160504244280935, 0.4219979792296558, 0.5767024648402093, 0.09843980564464008, 1.209956187016828, 1.0355955626826152, 1.034791709114429, 0.5610137632136188, 0.24015832429472128, 0.2668216484862528, 1.0388546178929936, 0.25277793590059744, 0.25113449583209174, 0.10812223393543328, 0.3691025148731124, 0.11484001347517812, 0.1151693347585485, 0.24420469808965306, 0.3181013021359412, 1.0390342518748876, 0.40052395092171234, 0.558861888675057, 0.3175509689142559, 0.2429050879671066, 0.20384147490364035, 0.3834167647824527, 0.5282068153338946, 1.1827313331472735, 0.38675768112367936, 0.32489512155079214, 0.5216005891335661, 0.4891411733354224, 0.14097931443542389, 0.5404060542916909, 0.1498008561176618, 0.2664242867662032, 0.36109759952420784, 1.2779541597000097, 0.47974702996790763, 0.131171939785095, 0.5420255012565043, 0.5529188358364017, 1.2077041603428718, 0.6317814099454645, 0.3139334093345988, 0.30666851579672477, 0.3098406269061834, 1.0423736952573321, 0.6698612799054936, 0.47025632903488224, 0.5149897651898012, 0.4731613843728672, 0.5193975548196337, 0.3453531658264472, 0.174027815875695, 0.5581490179757477, 0.4354093949669643, 0.1221958082042114, 0.1283978492967397, 0.2684548197369635, 0.611859198438698, 0.3654002708319025, 0.7058330921395749, 0.5019053121266565, 0.515909516934404, 0.7758993340849442, 0.32891554376047405, 0.15236435511829494, 0.5569325772550264, 0.4296047117628266, 0.29876448507169223, 0.2579315002569843, 0.5930918016868078, 0.3806412535815412, 0.13459981822010283, 0.28702078055033814, 0.3102218091751778, 0.3648778465340596, 0.13206579818197353, 0.1467116236241999, 0.13773438981269662, 0.1324295729493599, 0.14918940901265712, 0.1996341355532562, 1.0396586532389103, 0.2125150570591934, 0.12755910359334235, 0.7978197457603972, 0.6754542517082643, 0.25825243514136814, 0.2007019486265156, 1.0334632445947858, 1.0352891391122097, 0.08816780388441785, 0.3782327144618107, 0.34546245207779114, 1.035622164237148, 1.0377021503873407, 0.11374237967663223, 0.16013566064511553, 0.6841358591513164, 0.5270690874327976, 0.18317718950704504, 0.30490894787937933, 0.34408412295010904, 0.41879521092403293, 0.54218686624006, 0.5165294819448734, 0.38047268236783066, 0.3768099218360062, 0.3806048967309648, 0.17401285954961832, 0.15209805337040716, 0.3781369333736232, 0.5189371704508242, 0.1212132577375406, 0.708498793944667, 0.13258361395722668, 0.4849260859266458, 0.3180530991573967, 0.3905679766344335, 0.18618904726317426, 0.47536741421238277, 0.14226452525991534, 0.48159372211352364, 0.49589552962779565, 0.1466896963619007, 0.1560160979260246, 0.3800262538362117, 0.27216143732579756, 0.35788585783070037, 0.334445507739016, 0.08301088568907405, 0.19403571076931955, 0.4264221541550788, 0.4582146774401272, 0.457127875897003, 0.11802056168094338, 0.43851770588380956, 0.11184534604598968, 0.2685981179095145, 0.08846503751186037, 0.39074753991229777, 0.5470178458931431, 0.4243922460785742, 0.43860501703174454, 0.5190752314482292, 1.2810098510214825, 0.31046595746597816, 0.3609412255902997, 0.31884993124754585, 0.1494282075658234, 0.15694261488539926, 0.15330714936670806, 0.19993623007229008, 0.46956414847619055, 0.6931189725000264, 0.1726995721552854, 0.18452113184129434, 0.3682210222172513, 0.14706558639679276, 0.38042411836889933, 0.386716724867811, 0.3841087064275036, 0.33029256861251816, 0.4067568971405226, 0.21576972650665757, 0.15712995693356224, 0.30201618928232965, 1.0384641709527103, 0.15318977232288888, 0.4832016408819774, 0.46258310552655274, 0.12630371834523174, 0.3449174274702318, 0.33929723253939553, 1.0350121121025313, 0.34430156358067304, 0.3314468319153644, 0.5643604950455124, 0.4044381060917527, 0.3818347380767687, 0.20777426633379797, 0.5408415159818883, 0.45597090878478463, 0.1495976032870805, 0.4355237640059533, 0.6887110593145706, 0.43258233426483617, 0.25030558062392133, 0.3863331112620657, 0.17665942750007424, 0.13909414243498908, 0.24216729605813192, 0.534599264211402, 0.20269977593064759, 0.3833862844431274, 0.7623715630661508, 0.7458322138956789, 0.31474690569038166, 0.7754165462439532, 0.6042871465791749, 0.2984916716033085, 0.27333841434329836, 0.19199529073483584, 0.523395231925413, 0.10091430734153758, 0.7760144648519722, 0.4274302352940061, 1.203792767002245, 0.4488114252634808, 0.11170416268257133, 0.0716650673113798, 0.11444032130028327, 0.1177556808347341, 0.3879208700541992, 1.0403020813094597, 0.196015379739525, 0.4387215732450283, 1.0349593614378463, 1.0953113563072392, 1.035408916912307, 0.5906416595158966, 0.5217578267664411, 0.19778737721189624, 0.33251046924692407, 0.13217151706387834, 0.24689438771726283, 0.1524246950576477, 0.18763157994328328, 1.0392488856352857, 0.5584742649427854, 0.18576992392571592, 0.17330818556772798, 0.15608017828012877, 0.7390040868584516, 0.3254695772796846, 0.6587638941160573, 1.43836489572129, 0.44059551625721766, 0.1262330307258157, 0.5380947710705943, 0.38071357440868364, 1.0426663035377335, 0.761815169551768, 0.38859303539419565, 0.44016721395263525, 0.25938211194499367, 0.5165340455583141, 0.5216266916093395, 0.37110290077803004, 0.38888428581710743, 0.7656468608652404, 0.535598838431406, 0.3838596235811414, 1.037066117905402, 0.5611329367422329, 0.15998312912455132, 0.5639647291173889, 0.5382915858001399, 0.7470199987109201, 0.4416525565237509, 0.3230004120178264, 0.4759397381233876, 0.3240091541859877, 0.2202855105663994, 0.3684257625429134, 0.34530212795967413, 0.18418035988169817, 0.48734451127282424, 0.08855355954713756, 0.427686316446338, 0.4298607536439513, 1.2380534589703682, 0.3632119846031579, 0.39465848026032013, 0.14206987566012702, 0.43019667827570646, 0.3844010971965874, 0.18117936151665961, 0.6786395600149062, 0.7820510274499866, 0.5220503620565096, 0.24620320196220943, 0.3634856789289266, 0.37447190177138834, 0.28054730421168766, 0.43430866422530595, 0.07911132491473878, 0.17595621543581652, 0.39285845948121656, 0.44062178110988676, 0.16230706062748773, 0.40962771338206017, 0.5463814602562659, 0.3769769815666251, 0.42147654743401375, 0.18511997274806988, 0.19460950587766931, 0.24547818238830474, 0.24797096221351198, 0.20687500861903005, 0.22011840790660472, 0.1514524080052668, 0.15734176555890841, 1.0390791835459927, 0.3651961323401266, 0.3806961636566185, 0.5616507130816145, 0.5220452449486103, 0.48414820071738623, 0.2019675707907435, 0.4304093370306827, 0.36762991720606597, 0.5327491171447243, 0.3189460712581654, 1.0377804401139408, 1.0368741806602408, 0.37281602486223464, 0.1291876950984316, 0.1488799034383929, 0.5191118522364913, 0.38415320217590754, 1.4496947026892566, 1.036768736409257, 0.7725559195492583, 0.33259142925045787, 0.2406035677961824, 0.4756383954037984, 0.42755670913356686, 0.381301336916861, 1.039779722118915, 1.0426623760110443, 0.3724942662354812, 0.24579146352595932, 0.3193948022032859, 0.0992033498640632, 0.23974743626035977, 0.7367404958724189, 0.39805341618432966, 0.5709199891275398, 0.4216052560071093, 0.3665921770467948, 1.0352502164139539, 0.1747757077561376, 0.4729660699527187, 0.7518422622538594, 0.48390591881242184, 0.4569556286725938, 0.3841113728684055, 0.16450166137264172, 0.13092934123989347, 0.13481988640854692, 0.5092560360378792, 1.4212789819675822, 0.7872409449497336, 0.09914615914087312, 0.10164453745517667, 0.43016356941599554, 0.47232492438427853, 0.7772067021874675, 0.45865811063639467, 0.5956774425692763, 0.2455082877844823, 0.17974476547303092, 1.0372970638573313, 0.13029513610761778, 0.7769749361099415, 0.22144369955897053, 0.3015433653176371, 0.21823433513862958, 0.1926663670938398, 0.15257697575302223, 0.07979411959377192, 0.18647207741942132, 0.5424491948555223, 0.323343945852713, 0.1367652576320895, 0.16122019332221618, 0.5246598999778885, 0.4754143426200531, 0.19010107587674807, 0.4838138176562208, 0.5229005799373792, 0.7764529082873761, 0.4423628010331549, 0.335442142198365, 0.4615999864931796, 0.119716380263637, 0.20593950778781922, 0.9177881578785203, 0.3891487968513032, 0.42698472716208574, 0.4273610462201276, 0.4360319466480466, 0.3246965290569592, 0.5686646339987733, 0.5203475254827568, 0.5373462297932379, 0.3199892947025658, 0.5429388516568083, 0.1928708909906288, 0.8461077452964305, 0.41143754175015157, 0.2856852861639619, 0.3662285077816359, 0.43318974837240015, 0.26641882101060427, 0.37076779032702684, 0.37609890126927775, 0.331779582161528, 0.39028835285061897, 0.42720653322553126, 0.15428957492632828, 0.2287205579529843, 0.3865741079512404, 0.13492521173613886, 0.1442056647924838, 0.4377690219235558, 0.4703039255018223, 0.5361176463045985, 0.3851493819383285, 0.17948424366337193, 0.15203363197081843, 0.2626505565707336, 0.46705633301165533, 0.5859638925746026, 0.6872267086094211, 0.5161553537302893, 0.3836963575822349, 0.3078162771116379, 0.2924307442433158, 0.12429110100687975, 0.2261834044578071, 1.0355541987669477, 0.22417302698907338, 0.3515415657225087, 0.36126570913391265, 0.12242898421707582, 0.18538631212325712, 1.0408419065454193, 0.5962189279301455, 0.3540801932918221, 0.16358080484314738, 0.17688474667831597, 0.1255694301400939, 0.16855739230422015, 0.15720814369484967, 0.5536735384833404, 0.19437975951669725, 0.15011609170880033, 0.12345034316690925, 0.7752951691243616, 0.666785340464272, 0.43855442391718136, 0.3302827397578529, 0.4489143114829847, 0.2246520413371187, 0.5535574693157301, 0.1625940133117425, 0.4806677955300771, 0.38495736826151133, 0.29566868256365925, 0.3247951307382249, 0.485023168331164, 0.8084138794474777, 0.3841322282464125, 0.6002957105439353, 0.1773467167712286, 0.10732401712633927, 0.5946792711920065, 0.38614509962916443, 0.5224921289506508, 1.0381268645269974, 0.5074332976092197, 0.46250971674076696, 0.5708759161530682, 0.4190107680595264, 0.3692120503308419, 0.5405578169681863, 0.13464693679931472, 0.12535822731403912, 0.1913740601590216, 0.7859382792172919, 0.3157527484160748, 0.3246301013796443, 0.33352843121703313, 0.44347805437634247, 0.2641806681014175, 0.38344043420824486, 0.5653577362324169, 0.1491769964807637, 1.0358394378996503, 0.20465641497830978, 0.49255548610554317, 0.11727350142876349, 0.9187358198369862, 0.43989305413868834, 0.4320909073372749, 0.13542874065605456, 1.0344528530037393, 0.31847079185271276, 0.322480213388828, 0.37729460255952935, 0.14913883726091118, 0.22165450633586406, 0.20036685345919483, 0.21872718816088468, 0.24533588635381864, 0.19141782077134298, 1.038791567846947, 0.1423438273390092, 0.3221481107519209, 0.12643091080508828, 0.6756760076312825, 0.19636043998085667, 0.12843316170443783, 0.5313750334382494, 0.5244432675229664, 1.2403531915218455, 0.6534683144743182, 0.1783671740321976, 0.36303617730459287, 0.13739107243084495, 0.43828196380716694, 1.0381899306985836, 0.6842742933961589, 0.4398433969109036, 0.4680276064136348, 0.3223168561648532, 0.5577587922496272, 0.5198832103750541, 0.5842617382260309, 0.518779614429844, 0.1521619336572203, 0.42948806897606484, 0.36457295006276985, 0.28303172151890016, 0.25054709192677044, 0.36233914818641927, 0.33405635316576116, 0.20788688707820419, 0.3508023490644742, 0.3157324561654146, 0.42869737761702104, 0.35098540543958484, 0.3922923491889653, 1.0480108885952628, 0.3197990523951423, 0.3420935801381849, 0.29572251072029776, 0.6540853998823748, 0.5446909113761065, 0.3392364238493981, 0.9335084430151126, 0.12528436572239188, 0.5576913185259776, 0.22178512830263697, 0.3674249088079854, 0.08606007600028782, 0.07713174083820924, 0.1237892087549259, 0.44289033891245433, 0.5018569701525366, 0.5272942519640106, 0.4058318597820818, 0.4983711575879244, 0.4265122821011218, 0.2172858650306705, 0.13180240898929904, 0.1411421507976389, 0.16032827627737342, 0.23518823419679188, 0.16254775457879697, 0.1606869879433905, 1.238477664936176, 0.1845118776873644, 0.15320612359764604, 0.797833908146731, 0.3955799067395446, 0.1544122786377998, 0.4666075592448653, 0.3258273896562766, 0.3591592782926505, 0.1260906745939211, 0.5166981391934188, 0.4710987615814601, 0.43022554257510265, 0.11930399093563547, 0.9484099413089022, 0.4387473632341834, 0.28027903099466084, 1.0394636656643494, 1.2382148053209145, 1.0384553467179027, 0.2992666935259397, 0.17283419464903954, 0.30255673905931224, 0.36173742550324994, 0.803934877401346, 0.8617126348015771, 0.41740938075452566, 1.038346309562783, 0.7765196044551814, 0.1430249797300147, 0.3475949060375545, 0.11881287782173655, 0.7293336943921791, 0.3728501136032183, 1.0545500170685191, 0.531485849397286, 0.28028242788003266, 0.5857835003891136, 0.14037772633295842, 0.773864636007847, 1.437065231819479, 0.33830210125515064, 0.15777526861247193, 0.13274240107471363, 0.38665822803907834, 0.48149742230501363, 0.07422104975615552, 0.12874762805162066, 0.4273680099403366, 1.039527801061205, 0.46057325238008545, 0.4015825317685012, 0.3809710719971188, 0.3822786610366371, 0.15571031979054406, 0.3613847077604991, 0.14265080333131056, 0.16079353247092149, 0.1392058574808364, 0.16739820117138507, 0.1456246510100894, 0.220869442173272, 0.21946248605921184, 0.21594263044404485, 0.31287234094544036, 0.1533357339993995, 0.18097863623882418, 0.5568463885573368, 1.035247661889806, 0.530723298612192, 0.5581040819022195, 0.1540912810725487, 0.3636723527498796, 0.21610621055194948, 0.4378378359606389, 0.44017594682030353, 0.21177440187351199, 0.3325158557904949, 0.19325349358442667, 0.5528772896488066, 0.38540149685151603, 0.4711902964181219, 1.0375473948340799, 0.5932454368650023, 0.380662622995258, 0.3280202235783823, 0.3464055684557377, 0.3451069706887833, 0.37114575117369714, 0.4612523985939501, 0.24961949609990813, 0.19180587775877928, 0.39492308373010704, 0.3656290301425547, 1.0135141032584247, 0.17103282795060615, 0.17121204379771363, 0.18173629427952792, 0.1834918768415827, 0.16359760709386892, 0.3806186330069201, 0.3840095894909743, 0.3809387742679198, 0.1496790454086681, 0.1953676912232754, 0.17812708429325438, 0.5654542674761117, 0.3076478682699854, 0.19312823721397843, 0.7790774009615924, 0.5452886646760597, 0.4403127242368563, 0.44282340377454027, 0.3809594223277633, 0.38428763329007204, 1.038247933407002, 1.0411305872991314, 1.0351885097155908, 0.24659462017116646, 0.9228546516679957, 0.19588634597363058, 0.4312025999680002, 0.17020235402688547, 0.5019623597829709, 0.39305492444155976, 0.30602137446946004, 0.3916622461992735, 0.1326561157979701, 0.5504239761864643, 0.5845657650426962, 0.37584626736533705, 0.14970075267331615, 0.09821805802655467, 0.18248516163115389, 0.1937293293076626, 0.13408229051755902, 0.21648630086149132, 0.24839172239910332, 0.4196616099281992, 0.09071844126560555, 0.2870051946667429, 0.7609371308334892, 0.43199982794122355, 0.4257329206388764, 0.09479500289504306, 0.5131546872582107, 0.20139722003053723, 0.38632562175941076, 0.10723964904617965, 0.09972967972681467, 0.12280771721193538, 0.16424704140603863, 0.38107170706568777, 0.4075067377566924, 0.18606983460217616, 0.7080903302463423, 0.5203662685562233, 0.1380079318955506, 0.5929769021271509, 0.245376861015125, 0.37052538289061393, 0.4408011012329867, 0.37609694414487116, 0.3735273009915344, 0.383066212575906, 0.571661556393431, 0.14908055570294587, 0.2975074271092074, 0.26062183566734853, 0.7730636733086959, 0.3314434353922143, 0.3683266765604264, 0.507575039693568, 0.3300446969630393, 0.7006278646976157, 0.38348818524361955, 0.8388788270610839, 0.5527428129381671, 0.40293444427800673, 0.5188560169219765, 0.31937741699919747, 0.28446149659446923, 0.939042792914265, 0.3204199040336082, 0.44009247408733676, 0.33151440104896895, 0.4051628383429375, 0.0864789054557681, 0.6690455362762262, 0.5200178454869868, 0.42974276989579296, 0.3649815422092937, 0.36145377483769237, 0.5239292936950696, 0.30558780987723705, 0.4403248605325163, 0.5722315822311443, 0.29194197479187234, 0.4736607282660355, 0.3492199850027003, 0.26241450499615376, 0.11472684439516534, 0.13359743729100995, 0.08393851718399628, 0.11188779148780395, 0.17250807752730904, 0.15543809468614125, 0.14347754430701568, 0.1262332088992876, 0.1587312522408885, 0.20858983834580638, 0.7759685216095643, 0.5961347767901027, 1.2707210768312622, 0.4457884390686068, 0.38040480536924304, 0.43924130150392254, 0.45428677422207936, 0.5307820466812968, 0.4031816767201301, 0.4065747145683711, 0.0817223555276078, 0.2764875419290411, 0.3867040050108108, 0.11671466007800062, 0.4427648431854414, 0.4463454130507586, 0.3831723013999803, 0.6875248659494184, 0.16104568098020078, 0.47481862816132775, 0.2831499058322903, 0.20534148587890527, 0.4811367210702974, 0.3893715741165393, 0.3636749503253979, 0.2628011180949072, 0.17374967362929666, 0.2954230494851919, 0.3281791726419256, 0.5599189762501169, 0.884745638674156, 0.4386505227562002, 0.7488108309602863, 0.41894182462112567, 0.4834709005852819, 0.11291939261454816, 0.12050903104559874, 0.42742953641768944, 0.11283264576209846, 0.09429081533586499, 0.38339382419492957, 0.3766362918193705, 0.48480507943493883, 0.09316963683826658, 0.5193152723937923, 0.4594800921588652, 0.140523032121866, 0.3936921826374291, 0.38161175035462835, 0.49089575911101835, 0.38347811610189525, 0.3808322737959057, 0.909166828106751, 0.36266958895518797, 0.3727224131921724, 0.13585221523968502, 0.14691035125277938, 0.12617204837264626, 0.1591928776835174, 0.25880820542290817, 0.3002608594008552, 0.17110627418435118, 0.18863581397412107, 0.1601796140424034, 0.5715124623188174, 0.2136101380547215, 0.18471474503211133, 0.32586476433242345, 0.6838707131117623, 0.7829314489797874, 0.47468330497534983, 0.2961387834380169, 0.760956861582293, 0.2207904933507881, 0.3428765112067514, 0.18596319935349231, 0.3198640576634766, 0.16472551111505537, 0.10199015072279981, 0.12116038457051691, 0.11167691922007127, 0.15183832491064359, 0.18349850699874687, 0.15386104641521278, 0.12112231910551663, 0.4239703516927998, 0.22103712630409053, 0.48654716345596816, 0.1663515147327117, 0.4800337766979381, 0.5272366931753409, 1.0354053899654487, 0.6033915064230029, 0.6599122967841651, 1.0937799330014228, 0.5691401044626878, 1.2202554865856974, 1.1215649717747147, 1.060863687320122, 1.0377723592875299, 0.5166875408259807, 0.5406897586625554, 0.23888548324442405, 0.7876930695617903, 0.32647741969952754, 1.0021996758514506, 0.35744611355163547, 0.1597030484846677, 0.47629787670806895, 0.35362087805189407, 0.47336608215133896, 0.5199816365913823, 1.0350013602587471, 0.8075450747887315, 0.3017623313326136, 0.3761645135052755, 0.12694187333443335, 0.43731922286940755, 0.1798520753320012, 0.3559628358303193, 0.11764389356904723, 0.16296086742921453, 0.28179392107623336, 0.5489380031270102, 0.43738521741412206, 0.5720239495950964, 0.1521910514365938, 0.16413995725816613, 0.15506197522712165, 0.15916015891141336, 0.21793909336547437, 0.22021821547806789, 0.46629557237708413, 1.0404572548609545, 0.41210283841316286, 0.21739652301344983, 0.3840122558468667, 0.7097207858908101, 0.5162810496519771, 0.15198092874768335, 0.2032658889953407, 0.779023303922693, 0.5188330034470507, 0.18604943725000064, 0.5024535999567282, 0.3265894177258891, 0.31656186530047614, 0.17433887804835047, 0.46524069823704955, 0.11488117749805364, 0.6526404541712636, 0.7081962213703163, 0.11048660034011486, 0.3649755868386264, 0.3774642038728114, 1.0377332762913638, 0.11676691459041555, 0.12016014926661138, 0.74831348337595, 0.10344676845060763, 0.19033223498271615, 0.3286723979358361, 0.5422543241326367, 0.31667698752405626, 0.6755455237519301, 0.4126200154834832, 0.6537699005455176, 0.5044515846128713, 0.1282932928003272, 0.26024852584237973, 0.48413946010908543, 0.3495768596118665, 0.26725105661453835, 0.15206513718159226, 0.3909478025160396, 0.4693973930665059, 0.4261886468189196, 0.3324259263941847, 0.4741861030408337, 0.7170605941471297, 0.3368204682516663, 0.4072027287519103, 0.3705349988901114, 0.3732013185504181, 0.11622410202155126, 0.19323906330791207, 0.1960436573444834, 0.17073710551678206, 0.3228146304772966, 0.37659198193193816, 1.03692355800599, 0.18014498310479293, 0.36217527668837274, 0.13831321991243012, 0.09632558601641746, 0.09181005289028617, 0.12987307153346928, 0.11331906127499065, 0.24987482679886205, 0.38209824514860163, 0.2977126657394773, 0.36532200048474794, 0.7841341921587126, 0.42745100435592565, 0.7514552866413122, 0.6084775884164582, 0.3514326808279752, 0.4590065580179957, 0.1453388483625538, 0.07738886040302048, 0.11744236327327115, 0.20226347669005804, 0.24448023995800625, 0.11498586222588755, 0.1514363264792827, 0.1312122880939995, 0.15896026245725778, 0.947989185780954, 0.47399963107470033, 0.9489914970167022, 0.12933863304810278, 0.32881511651757594, 0.2242494470184238, 1.0379960123492922, 0.11898871829871044, 0.318157816210053, 0.5554408248750841, 0.519166503491895, 0.37862678931067023, 0.09869240083248826, 0.07821902950209535, 0.5777097733717969, 0.516486753838993, 0.09073658934906136, 0.3805407501767433, 0.08543221693997222, 0.7619107713235135, 0.5584279030439202, 0.2911116544244458, 0.17625386970977325, 0.5556662844341778, 0.5552688226927918, 0.15229176974354777, 0.36206793601833615, 0.28086634343396344, 0.5443443282221735, 0.25640917791799456, 0.5565197439345367, 0.15501319896072363, 0.3616097187675659, 0.23520831117380056, 0.31819831020413647, 0.5502654304104141, 0.7332297643361386, 0.23869853456333845, 0.3675967551167908, 0.37241945109103514, 0.13941254230808087, 0.39668272037370544, 0.3516542984950647, 0.762589215905583, 1.0388273988727867, 0.38671137374556436, 0.7912834138698203, 0.5580283023895448, 0.4710669758911763, 0.7338629626775737, 0.36323292132955154, 0.5378558581077295, 0.7903711933871662, 0.6031232052360952, 0.386910762732548, 0.4427362106948681, 0.4220926559100673, 1.0380475648094927, 0.4642711612088567, 0.38054755841097315, 0.15906632368162985, 0.7784411694191788, 0.48442262962663274, 0.38003081196034993, 0.3974026061879925, 0.2576785286192827, 0.4822759827485833, 0.4095522270464834, 0.5390800004992479, 0.14240083626907027, 0.22089546957471176, 0.1600180242018944, 0.08514391878295205, 0.20231173342034983, 0.22326123188766692, 0.21018515555365772, 1.0105957534718941, 0.14810471786779336, 0.16581860062484713, 0.38346454727911905, 0.6689558817536191, 0.1707227585768108, 0.19003114674746785, 0.36550220415074464, 0.17348794381389807, 0.2993690219989109, 0.4245477401739042, 0.43717862442200084, 0.39632011419731705, 0.24543742207114272, 0.117851322659886, 0.39527848450660974, 0.1839858645025223, 0.1238768622567094, 0.1522746229661447, 0.33450670315039194, 1.040646497228129, 0.5767727302596072, 0.384052401766256, 0.32005565351969495, 0.2814309562282699, 0.42156940808352034, 0.5350361820696017, 0.9947982731496532, 0.1410644344904577, 0.3492976053738718, 0.7645527775664592, 0.44058575916916165, 0.4608460493877916, 0.36523292530608836, 0.30164247296632646, 0.30227578650987547, 0.3874467292108023, 0.4234833988897663, 0.29118446132230397, 0.16269530771271484, 0.16273289146729092, 0.2926357014471194, 0.20353788951974544, 0.32646064579138007, 0.4140778376595727, 0.349890344992371, 0.4592610813384896, 0.3966762623866329, 0.0954937358519399, 1.2282866394377392, 0.7693122767910218, 0.4405041394721202, 0.7489553236675256, 0.22704533125503312, 0.16088934962446055, 0.43812586080704513, 1.2314194771793496, 0.512726143630419, 0.4377263166062614, 0.3169654353352562, 0.14926176079197592, 0.3893468351091076, 0.16984347479046735, 0.5601112205720244, 0.47397568588433076, 0.29569793480918777, 0.46690407668318273, 0.3458611942877309, 0.22017031507378249, 0.38108444806094155, 0.5300613895342207, 0.46778470662448596, 0.11672274439572103, 0.0728589970512645, 0.22132444502011037, 0.16321005902560667, 0.1512073279295529, 0.19114149459157456, 0.4572124427854876, 0.23553151244425916, 0.6572193120921019, 0.5549755698423865, 0.8398056813553608, 0.3792509372944465, 0.2196472908898982, 0.18814707462970068, 0.17434011565755658, 0.20636186766004094, 0.15250595361962854, 0.47286892011518533, 0.2674651324719223, 0.3768011009080071, 0.15140147521488373, 0.12409089311657139, 0.6669582326868588, 0.10715780432805898, 0.5456741853789775, 0.750157925928995, 0.3275611160167365, 0.21325182106016666, 0.2829499302141475, 0.33302544234281023, 0.2812232823430063, 0.2923678452364323, 0.9494944714269414, 0.12760628592141374, 0.9861717304908184, 0.4280593834888984, 0.38796402249194073, 1.0027152973199074, 0.26803277805267256, 0.3970000355796388, 1.1250010308352658, 1.4221320046674906, 0.5555503240658675, 0.7656685408362216, 1.0478747532310047, 0.3944494536312143, 0.1984924490886561, 0.5192647818515896, 0.5157939356650021, 0.26308320873705804, 0.3206960733809936, 1.2741198086167886, 0.38910867067351906, 0.4985524620602057, 0.3404584281123668, 0.12017038219490829, 0.2964263233051061, 0.13008215962859326, 0.11696750644313327, 0.12268728210295678, 0.45014763664042207, 1.0370073219033675, 0.5054708032090294, 1.194499612359302, 0.5968421573364436, 0.12403874386826413, 0.482176203203057, 0.12227470152644113, 0.4378891484196951, 0.30383992863920706, 0.17699050361331267, 0.43025390747793046, 0.7587862016826364, 0.5929699122839862, 0.13456492302467085, 0.4967822536324542, 0.11832188506369137, 0.1426007385099284, 0.20193476417559866, 0.1455631741918262, 0.401278513946437, 0.5856193641588101, 0.38511441371147104, 0.47616160645271066, 0.5663742760617697, 0.3633727163528465, 0.4839825015492397, 0.16231142941029048, 0.474015282088142, 0.16295543704517113, 0.2777942960191589, 0.6129755317042201, 0.6614332400712021, 0.3847482435326301, 0.7859738266828997, 0.20227562285788242, 0.24731629976797864, 0.13349541490805164, 0.2072948499666934, 1.037505029649681, 0.16486860684120852, 0.7170005621069445, 0.3283708331604326, 0.3042511285945134, 0.47114820350686054, 0.48486354024265826, 0.3296127523443902, 0.18910854397664228, 0.433204922871864, 0.4380936961428697, 0.13580183978711152, 0.20468806531935063, 0.1265267184311883, 0.37952819292072865, 0.4295432259158483, 0.3222675539616322, 0.3803700090711343, 0.31845566599433545, 0.3411191172798704, 0.1883551625226369, 0.4376080109308555, 0.8008824094117293, 0.5187656176348858, 0.5189722143330349, 0.1674735962944925, 1.1623679378979708, 0.41256699845053674, 0.36452319795080995, 0.6065315514069297, 0.2459303248329533, 0.12990793058435057, 0.1162191752667669, 0.42679007154344045, 0.2934801204522625, 0.09733988756516772, 0.3024914010730222, 0.10783882976393307, 0.0707499228052287, 0.11819665342059145, 0.3835001686984847, 0.2452494784082267, 0.43685969012025844, 0.43854438524160066, 0.20679286470208216, 0.38422707929789784, 0.5330537612147761, 0.5194850659971759, 1.036240570575617, 0.3689796035588263, 0.6882181279541104, 0.5251302630571065, 0.4408782229586778, 0.4648621872337672, 0.23821201069969597, 0.1426558777583525, 0.1828391460086801, 0.16458649825515245, 0.41661697752575844, 0.1520258577285015, 1.03848642910756, 1.0427887370356883, 0.1343004927907517, 0.7496066884992337, 0.47467648031710674, 0.3135919292399826, 0.5594075395426393, 0.9485245881533678, 0.11204854340423431, 0.1915340656408022, 0.47530256281445676, 0.30757821455004236, 0.31234302557002397, 0.3251489205679062, 0.2706358708683462, 0.4471756816074327, 0.37618872847631596, 0.6968564276375093, 0.3809225775860443, 0.43981606110606775, 0.48289948243388064, 0.7751980688756174, 0.1551663553334418, 0.1469704725249536, 0.3501092356889736, 0.31537946610903383, 0.4354871368578139, 0.5165049008058735, 0.41897502705646494, 0.7941582376821292, 0.1314183440313882, 0.08993736956706744, 0.0848102723037795, 0.3883555823311581, 0.4271693134085179, 0.7701259175444902, 0.7343406669622733, 0.3348074190303886, 0.3585363447233457, 0.31888175063971314, 0.7784989703774218, 0.29896490846282997, 0.7517063713697726, 0.38641187678302724, 0.47428479619199304, 0.5578482695581765, 0.7813636774667962, 0.5585822709780716, 0.8129286428889274, 1.1061642671149308, 0.5188259675003694, 0.16547163160659673, 0.5339998201327669, 0.32506846049456706, 0.9492543607751893, 0.3381060120988855, 0.31139698428178014, 0.4009194511467718, 0.5203583261409401, 0.7638936243467928, 0.3697642128970532, 0.38966727913566535, 1.2737899076467054, 0.44097134657834264, 0.11670993820134425, 0.38727691078166204, 0.33459938187887106, 0.7812324709234244, 0.15175030271755618, 0.541919786467457, 1.0350352042969289, 1.2394694540865712, 1.0360365268693212, 1.0395400657229001, 0.45474422572934486, 0.3989438683413349, 0.3142359736896327, 0.36255018895668795, 0.6014227050313294, 0.48684894961212843, 0.2909655953629382, 1.0432215741195179, 1.4514422763605281, 0.519550166259294, 0.11828621192501201, 0.3525785144778668, 0.19705826384357109, 0.4920348547020952, 0.17358276048987334, 0.1437580030656508, 0.18572680046256265, 0.24564448716251333, 0.15823333173573842, 0.35876992991416856, 0.38727068699486455, 0.15854782937316186, 0.4413290205773768, 0.16655161358930154, 1.0348675771064013, 0.43105547199499605, 0.3480166893260938, 0.09807878963840537, 0.7349606112075668, 0.12373716999868194, 0.16582281514845806, 0.5332911240230317, 0.7374820631383102, 0.32902642599497656, 0.3652683139795784, 0.3810284229740401, 0.41879935977668453, 0.6971865977640676, 0.15994616367303194, 0.4805945950886661, 0.38632500227234856, 0.758168190195567, 1.0386927077512718, 0.8955890587494809, 0.7481648876460518, 0.3957095005958546, 0.36547535644099755, 0.4707143506833748, 0.14107232663135422, 0.38386740717191076, 0.42639776385345657, 0.3657203021862205, 0.29598308222953124, 0.4209366827968832, 0.35794854085441047, 0.5380852472011189, 0.39589106846822564, 0.7907571607206397, 0.12827736407671259, 0.1260436229268251, 0.3658341412179509, 0.5370305719433957, 0.18843485936418986, 0.4637933372855623, 0.7640785045596793, 0.23871404700639015, 0.3478453414177171, 0.11073137429815279, 0.15222952682476754, 0.18331317232870825, 0.4176526685970843, 0.12384684754208175, 0.16330266613872318, 0.885206291894543, 0.7028893505841106, 0.43330173981919506, 0.4065341981541005, 0.9483391213785222, 0.36579366707497374, 0.7384666395863693, 0.2025206045118526, 0.1569623680543913, 1.0445377979210722, 0.2815998983715326, 0.15783713238795902, 0.14581777808101212, 0.23766010249401678, 0.1914988538137745, 0.16758593603815972, 0.1471034480891564, 0.11045845610267865, 0.1479440287811666, 0.13968522172419814, 1.1684813199397857, 0.14484553511196915, 0.4596248679203159, 0.4510732916731498, 0.22201979623003004, 0.45951451577309504, 0.3665008249884558, 0.42798498298098525, 1.4357253981428848, 0.14402317538973125, 0.1702857186106546, 0.3767882546850045, 0.11715647844666498, 0.5343310077252137, 0.38424895126242076, 0.1196763268139218, 0.24628921172360618, 0.4361950049366352, 0.21874886685735362, 0.17677678051606502, 0.44142029262104254, 0.2893378372712491, 0.33928442432538625, 0.14560253377494511, 0.550289689063767, 0.3838710291430781, 0.24498677865895307, 0.4563779356635286, 0.44648346394122373, 0.5192873003614711, 0.561344646952028, 0.14566643887165576, 0.4023364849722082, 1.2705211914435264, 0.3768193679262435, 0.5258329794916481, 0.7734979972498746, 0.7637593080904583, 1.243043863356446, 1.0369502629866556, 0.3801142520773447, 0.3922954196210375, 0.7371066524774721, 0.16387012998770722, 0.5197232645238261, 0.3055753320182489, 0.4405233734738217, 0.1067531883760025, 0.18089927740368628, 0.33093281427068566, 0.5577133565266233, 0.17656719810693036, 0.2794199027964662, 0.12381158816120498, 0.558174163740532, 0.8461318562393534, 0.3293642404891811, 0.1912557676232295, 0.4442493976891596, 0.38445966074238735, 0.6225230612365713, 0.47376756228897743, 0.15262847070402935, 0.2757607895184709, 0.19744363252814331, 0.13922434592370686, 0.36298692855762205, 0.48695672199760487, 0.15105690324712817, 0.4740682424080473, 0.15983111130752728, 0.22269354628167728, 0.18026821623484504, 0.2256347739386602, 0.17733026487238315, 0.37622520998453185, 0.21700397002851626, 0.15291632450569725, 0.17620469544890052, 0.6594318554076725, 0.3521754425911584, 0.7572424230973073, 0.5934243895533317, 0.1593367961529266, 0.6705907698965288, 0.511432811592476, 0.3648526913055221, 0.40956432416201005, 0.5610205560729801, 0.10061466313469407, 0.10795507464845326, 0.5001904426089938, 0.46453278344832105, 0.11336282040243088, 0.21292342454854168, 1.048950243715653, 0.3838779082314524, 0.4057530729180009, 0.5173783142367349, 0.7733425258530225, 0.3258630461657394, 0.3828070642272594, 0.3336405257991062, 0.09905952590046652, 0.14643993964825056, 0.5226241017494625, 0.3506150620287923, 0.354056955170373, 0.30016468111190703, 0.17615216295283714, 0.42756307912741504, 0.1702510327350933, 0.3811134100189247, 0.1457388485896392, 0.32514822386664305, 0.380507940342282, 0.22302539824430145, 1.4220354391098926, 0.32278501945191723, 0.4738559195922429, 0.1289742479387421, 0.5607985986411796, 0.12581378393271364, 1.036370317985382, 0.5158349007235244, 0.10224881422370487, 0.5190628456440884, 0.4358904449169807, 0.12070509446682649, 0.11995973480564054, 0.1547800212297053, 0.32969537275092325, 0.44940968027090794, 0.32823338807896607, 0.3800054791475425, 0.2925149559237646, 0.38061539812530654, 0.15325094197443265, 0.20150784277636377, 0.16223298307152065, 0.11896207097026065, 0.14613540742450767, 0.18892820241112504, 0.48142247227317464, 0.09356984075426852, 0.15704270220066094, 0.6004578987076199, 0.5383897959592074, 0.15257527555706293, 0.13317659420764036, 0.4919400897142012, 1.0354755331914547, 0.8622084660839059, 0.3536030345198617, 0.12365413282649317, 0.47177712051849907, 0.11794877128086344, 0.5190336225231422, 0.3604384156530585, 0.1405131397584679, 0.4591382539471166, 0.8038490961524755, 0.242967477894856, 0.1294184116302464, 0.15104535810618092, 0.557485095762864, 0.1751081181387359, 0.4034271199550527, 0.43437598944673356, 0.40156334604631116, 0.7370537938753562, 0.3724333236853231, 0.33453642156410457, 0.3990484913906248, 0.7522633824208055, 0.50397985483227, 0.5360293689074941, 0.6588783936104524, 0.5632104101727632, 0.5154049443502267, 0.22575421003736465, 0.4829004524061649, 0.49566707614358146, 1.0394648685522192, 0.6871362909091694, 0.39326450575513244, 0.48220089980331526, 0.4930193707959206, 1.0391255239185535, 0.2796123571910204, 0.5174817212396267, 0.4294267095915604, 0.5349722221395797, 0.1372405703047534, 0.4384474753275626, 0.0946396685373846, 0.38392458609245184, 0.4374984302081555, 0.4713552941894173, 0.1768747267829363, 0.14645121177225123, 0.4404503277063162, 0.1136536230633004, 0.8575923057582889, 0.44146204189248434, 0.2887950886186672, 0.3452835270386947, 0.24851172399271867, 0.4793848963256665, 0.3800913140669157, 0.14792100934858785, 0.16726583706848266, 0.1282088356640633, 0.14312128670791516, 0.1843197310105912, 0.22137865596229936, 0.1553454245739926, 0.3785391791653537, 0.08694728496999651, 0.32561942405217353, 0.5200469597053977, 0.5196157551450976, 0.8657975624886352, 0.4197103360982991, 0.33702444635367673, 0.44146106803885804, 0.46355256706204845, 0.3248770147439399, 0.4580839143961765, 0.6977950139378615, 0.42112564502308003, 0.19929700527343, 0.17987644615531706, 0.3200802356577446, 0.37881970039486557, 0.9487904406557828, 0.28393218797107517, 0.42727794539514713, 0.36545458291807614, 0.4895984331234919, 0.41454980188240337, 0.36826728227717903, 0.1197547622515513, 0.13741569481265808, 0.15056185575950048, 0.14833489619111456, 0.5710135572704811, 0.4021153729440156, 0.38606772277756657, 0.1795585723703984, 0.5110161603686142, 0.18804044706654827, 0.33361949244002903, 0.5506858992312955, 0.3256996909065698, 0.07283344330671537, 0.15195135751418787, 0.3839569758554266, 0.24157033747042117, 0.11798652775300607, 0.2350706495630957, 1.0358407752584555, 0.1305006379506107, 0.31680069829026536, 0.36145258545328635, 0.3517133439529167, 0.3956466885856222, 0.2955594447654579, 0.14319449439100554, 0.30087571157371057, 0.48365669348626383, 0.20437727735031627, 0.12805385624185048, 0.1493557775616969, 0.20410969232063378, 0.08153080042082037, 0.1881224886075172, 0.32639474784403255, 0.1549854732285196, 0.1945603513802274, 0.3802563116308476, 0.3394423808078076, 0.159226216476963, 0.2113971881223613, 0.3806029343092512, 0.4739600787244733, 0.4579451640805606, 0.12333901349681342, 0.34704084911160876, 0.34881477841301617, 0.11737618663290504, 0.09862710160840592, 0.6928161098709533, 0.11376315815014791, 0.5419003160430047, 0.4569721206694548, 1.041689785407605, 0.12457780218263025, 0.7490302941952116, 0.12669837267222822, 0.31670772665146335, 0.31445947663374857, 0.42749589041724423, 0.13445315532620927, 0.18998621434908702, 0.41733375515886084, 0.4302978863701287, 0.43839250804668584, 0.2483573492716164, 0.26310202257846016, 0.4465524071088913, 0.5259853074100482, 1.2724410776321184, 0.5652593845996121, 0.38723892125275783, 0.4773860774463954, 1.0290172818039578, 0.16689005109217647, 0.47394565879591455, 0.39119770484028404, 0.15251848319796946, 0.40714047823762567, 0.16285150835219947, 0.33177789241210404, 0.44081678085584297, 0.26585396633586833, 0.39234536603672177, 0.10581537777298444, 0.38098055356007016, 1.0354569148130681, 0.12667953667278908, 0.4359482595459777, 0.4410790342305493, 0.4590750185481646, 0.40835948543423445, 0.18130113930168834, 0.6712528464701042, 0.40189057544159157, 0.18261565090967571, 0.19564029351638607, 0.2510087900643192, 0.4413053200019082, 0.3626321527094064, 0.39019679205926827, 0.387678916162426, 0.2128357901640897, 0.3294071690071289, 0.15876973950101805, 0.12379632573543223, 0.1526663366705974, 0.2155856198325579, 0.2402017696960306, 0.18006946146914363, 0.24203663751927554, 0.13614134585856366, 0.38093147598234994, 1.0367094321609693, 0.5958719074236757, 0.3821340668889849, 1.0391450720627882, 0.15098984427521958, 0.12602052343954567, 0.15628075421279702, 0.3973986468026862, 0.38085306639498323, 0.5494763653386888, 0.47642745259825625, 0.42982203109662315, 0.10615412700205899, 0.3303431619284196, 0.7884014110216753, 0.5367679933319436, 0.3803306420971403, 0.6872751427373929, 0.6873772799614686, 0.1961762374304284, 0.5320393051148623, 0.3797166839914591, 0.48149709348925096, 0.3998831086370539, 0.3805914368102385, 0.12911979526673528, 0.14857368619501082, 0.1703285222067364, 0.14979050952957912, 0.09947866138026235, 0.3120817438282571, 0.341070193528305, 0.4902995460695954, 0.3723143984835904, 0.42554396090390006, 0.31774319259475653, 0.1441135373724854, 0.4298479928224791, 0.1773191847034835, 0.5455579418065694, 0.3087600891339372, 0.5186773540136668, 0.30879315723975537, 1.037322829181081, 1.424334673289055, 0.2037779693632768, 0.5560366620454098, 0.5932092648021645, 0.14364676508062724, 0.43484407030546857, 0.3767107240353061, 0.16407047753767268, 0.32255383743553767, 0.15228136731276964, 0.5191284345298921, 0.516871655503581, 1.039425062260437, 0.34206326836169765, 0.27836380528690524, 0.44748116272053734, 0.13039969618171407, 0.09854188760981084, 0.23984413276250915, 0.15857981930233075, 0.18986795688703703, 0.5198526584855285, 1.0368666320936013, 0.5227338457487845, 0.2044078922420652, 0.13451185669938248, 0.5194398125160752, 0.17167838853197817, 0.3123134145446446, 0.3288511623189951, 0.4540969708090305, 0.4625463113714094, 0.36626758090511946, 0.9487101880936877, 1.228209260672034, 1.0396144211836742, 0.38044476333179433, 0.2221720647046132, 0.3558973492320993, 0.11055260215654737, 0.5958250325187708, 1.0351255408861806, 0.3815486923334742, 0.4273077413199535, 0.5190992114089459, 1.0365388253611518, 0.8191362507483005, 0.35379465116589726, 0.49805662425596464, 0.17252328379958326, 0.36558434366760506, 0.3653463526359729, 0.19770835669578302, 0.15349392092004377, 0.7176299360450734, 0.25051729094728825, 0.3598865035606472, 0.21887660743064172, 0.3079771570287947, 0.15160940755536795, 0.24690472021896803, 0.3888573099344834, 0.5376131660837163, 0.3878358419647782, 0.5158650252638033, 0.09897182885089108, 0.0970942174689199, 0.2641036142173783, 0.6732641451010087, 0.679888300712794, 0.38135935699638845, 0.9477758049211686, 0.3870841665225847, 0.4066542466343329, 0.45840140435206045, 0.15510571834598955, 0.2072145687744559, 0.23748242908600262, 0.1268927845886431, 0.22836115018090766, 0.4375610943629171, 0.13223726766334779, 0.3463832818901206, 0.3277219435629145, 0.5293945295982435, 0.7009369245645526, 0.4760455784147119, 0.29371859891341967, 0.3075074655708978, 0.1339257172777526, 0.8037985451106853, 1.037698678142424, 1.0158237814158657, 0.11320517270404318, 0.24412205408112833, 0.1844892501814352, 0.18073757077917427, 0.9478501581001786, 0.18662719622363302, 0.21417682706400729, 0.27125231450156634, 0.3201878565970267, 0.4383996547847849, 0.7732269478098334, 0.2467689622974677, 0.592917722563806, 0.39551889131533524, 0.3701093560636863, 0.5166809864983025, 0.34351682725431804, 0.4854714026401176, 0.365628524094236, 0.30017545042298227, 0.16181564940410315, 0.3193976426411304, 0.3861732593014637, 1.1064039925681879, 0.45876616925625985, 0.4276069960550814, 0.306225269588948, 1.1872347186796457, 0.33955393446530385, 0.30312032433271, 0.15492337910133816, 0.7590615150581873, 0.47089848861569394, 0.1837501020746697, 0.3631013230861096, 0.09923445752102329, 0.5083782011092226, 0.6642293281502689, 0.5564638585323665, 0.1186419909773719, 0.21604008836708438, 1.0381260171782842, 1.2175049316651312, 0.3236628339654897, 0.45016798370885575, 0.43749066367458234, 0.20440987385717838, 0.384593627845808, 1.0379330798403064, 0.7761986381489905, 0.23812401096609156, 0.24192523910629624, 0.15912562042222198, 0.2221410568671218, 0.12979186625483982, 0.4562009049623006, 1.0466620339571895, 0.7883536839411667, 0.24814732737100662, 0.7279741302021093, 0.14153784404544997, 0.33145101182891884, 0.4382171328507109, 0.22162901970461424, 0.1732532065184636, 0.32062430643361256, 0.11155360578981888, 0.8137437896374878, 0.32763440719161296, 0.12845979295768772, 0.4885159923912475, 0.3609922173065648, 0.5444754276736706, 0.5221861371693525, 0.1228307632991929, 0.3128499974363803, 0.38687777538267887, 0.12841721670578712, 0.7097136179437411, 0.5186795588123159, 0.49812835066153816, 0.34590094062341226, 0.22337461077315796, 0.7487852206963503, 0.34828208048471376, 0.9661223514203159, 0.3995581711899896, 0.3631463882037025, 0.200869069559785, 0.34784681752861824, 0.3979694419573705, 0.17627048891679786, 0.16342223250711507, 0.3977594373928497, 0.38071444692866946, 0.2954030556094801, 0.12270545495265334, 0.22424041375931147, 0.9424761955460002, 0.5823871319954963, 0.33738847449128107, 0.08873794720547712, 0.3392878261562554, 0.4112230026971226, 0.11330207662632087, 0.5166189418416711, 0.774847704833388, 0.3781708911868999, 0.3803915758947222, 0.15729369196946033, 0.4241423297824117, 1.0368394109776424, 0.4275638210585314, 0.5222817736785758, 0.5387202377566539, 0.38280531622376207, 0.17312869378635828, 0.14312295968556168, 0.15441923475788014, 0.16114499294984566, 0.24464397116118033, 0.19945193270311504, 0.2163704152663173, 1.1683353283089426, 0.2171832962764944, 0.1474303367926866, 0.11657685701348186, 0.7366964228979472, 0.2625995985602262, 0.15964501675821652, 0.46062769836312895, 0.4994655865671379, 0.5693397444310986, 0.3846526919559292, 0.5576418487046422, 0.3706287310128479, 0.11880244880811346, 0.2471143561825513, 0.31292516769988016, 1.4401869814542763, 0.43816476146323385, 0.5163462653599261, 0.8728830202315528, 0.45412375777857833, 0.36289087432749384, 0.1346022810667182, 0.37085906237069266, 0.9494409313219252, 0.35205846937854784, 0.7600744209831073, 0.49013925454020135, 0.44060182595270797, 0.3497506450896624, 0.1656406547320573, 0.13977307689036295, 0.26842601998083154, 0.47571438677067107, 0.43838163763237376, 0.2758871849719911, 0.15647588812143326, 0.352567908165812, 0.11999420751148066, 0.37832129926857594, 1.045051845728283, 0.31598085140842447, 0.3489143124068514, 0.4829378718401165, 0.43192782213864717, 0.761565025862474, 0.4118209861435676, 0.37683419596984036, 0.138208836419912, 0.45172355720929713, 0.21546241953138828, 0.4278359445913331, 0.47340709316023544, 0.7334099760907429, 0.3887241703307063, 0.3057068780137731, 0.868772731075565, 0.804533769960513, 0.9156705330924938, 0.18446089844517094, 0.3957665497155096, 0.18436009163868122, 1.1682512309420428, 0.14466171085696616, 0.25608903565769553, 0.6608261665787784, 0.43431897812893977, 0.2204628070703004, 0.12020012354058718, 0.165976236836452, 0.5527897641681987, 0.09057015660353204, 0.1933226134468727, 1.163302612384757, 0.1844523665925558, 0.24578646192553907, 0.25010805770725064, 0.537980367824587, 0.1388170030252605, 0.16616093687618622, 0.15621617544941135, 1.0294633103315605, 1.2730636536080724, 0.36243539192110263, 0.3810801891245811, 0.40260742491680673, 0.24353655802268065, 0.1058178943575344, 0.22197025163328332, 1.0182933597259622, 1.1802287719779403, 0.1701596541525229, 0.18006768465549944, 1.0311692215581123, 1.2153820684287628, 1.0351776434490565, 0.6037653912536384, 0.7837213775060049, 0.1105693546367775, 0.20542259410868086, 0.2214143445388838, 0.2057388839058882, 0.7761377850647465, 0.7659057943795654, 0.6893468682865228, 0.31868931025172975, 0.6049672137444363, 0.7397494547978228, 0.35956504461430916, 0.36583930674084775, 0.600339613927544, 0.1793434635431327, 0.6001004470059003, 0.2987250792904295, 0.33982790151072534, 0.3781928746550333, 0.13147964773474125, 0.773445115671205, 0.7467108910663394, 0.37831949505171275, 1.0078603267934734, 0.1549559234815877, 0.12086506926804032, 0.15137667830179016, 0.12955061884629376, 0.3237588214171905, 0.4819759533782002, 0.5520190310794396, 0.33678380498421373, 0.7548671634446833, 0.7834097620948028, 0.5189172395440351, 0.48239344209879925, 1.037732498557571, 0.3227051859060051, 0.3194611327776496, 0.7174032887673513, 0.5419379824755389, 0.8821479975491194, 0.404001764865776, 0.2347452364940627, 0.2398932272169875, 0.1967070617952468, 0.16461325361670967, 0.18768958271251415, 0.2453578247457715, 0.18002782974627488, 0.18501727114304836, 0.15082025976864225, 0.1339941480040802, 0.15260992377196303, 0.8464780014467418, 0.38340890035950465, 0.16906129953280155, 0.7557888866506319, 0.7998037498983994, 0.5183596202223388, 0.5189824100488185, 1.0369460491952058, 0.47186456745782246, 0.4393244854157897, 0.42900437132020336, 0.6006735128150686, 0.6756782382547946, 0.14446712172466425, 0.45619995477384157, 1.034022410055035, 0.5086216602869215, 0.12878328970246558, 0.39019315326726, 0.7482726414492029, 1.2261491167585612, 1.0353348433816885, 0.6717355073372263, 0.3229126544138647, 0.3737471118854169, 0.23887352124978517, 0.29618145095781995, 0.28233417497700825, 0.1258598740994496, 0.510084654914996, 0.47618068156885823, 0.3317761998435837, 0.2998015463334471, 0.3799727244832152, 0.16372314953034736, 0.18235544732878942, 0.363539030234101, 0.12722491137097083, 0.4043489609226116, 0.742989529012677, 0.555221181880013, 0.146831138323803, 1.0964195892072282, 1.5833141714106047, 0.35992158368669047, 0.30018223765109164, 0.2442520468618752, 0.1265801049008784, 1.035007036649239, 1.2061825903444459, 0.21811022301098823, 0.5587937941625564, 0.7667204971550513, 0.44438264752316375, 0.12707214274505735, 0.38417609568498595, 0.5306654977595417, 0.43900593809828936, 0.26797198862876287, 0.20124592189217877, 0.12984172609772143, 0.37765750306301527, 0.30630829032503554, 0.36081641000799974, 0.24600690820210586, 0.1523685620718591, 0.3856429539872499, 0.19606923035305598, 0.16628830867044073, 0.14417833381325693, 0.14423863045309446, 0.12760419763640016, 0.21478261088628756, 0.18970675527302802, 0.2482188204954553, 0.6345124777640114, 0.7802664055418261, 0.22107450861388078, 0.948364050069997, 0.16879303628066045, 0.4276784178534901, 1.0343076491877377, 0.09905482732483978, 0.5382119829546882, 0.3270336361950358, 0.5601655418166119, 0.3650551447792013, 0.316964327776016, 0.081068338357684, 0.12320164710903712, 0.48219131812940175, 0.14549240866059915, 0.38675644215063054, 0.534950853161735, 0.4384264238153893, 0.5662634907399704, 0.5391696346870274, 0.1972104888176556, 0.4270395403925045, 0.3078159208280818, 0.11262390359737925, 0.3029459692655613, 0.6797718121137953, 0.29129072642534115, 0.3390107278386232, 0.17121812941392522, 0.4948065547573133, 0.5262954903944699, 0.18152861718744862, 0.5256046298797645, 1.1249259633559194, 0.13436642858123338, 0.3872664466253919, 1.0374671098107793, 0.3868365367679505, 1.1649080077509868, 1.0372597791350344, 0.24901416141973526, 0.38935879308587573, 0.17093724166137575, 0.6314719585176791, 0.3633236602918688, 0.4276877291173806, 0.14777403946252426, 0.1511705379310569, 0.1470087158742469, 0.45410626460189224, 0.3483920611552169, 0.3984551337094975, 0.770425174584155, 1.0165042483086002, 1.0356212927017698, 1.036658141986671, 1.0427742653404342, 0.7884357606075026, 0.17334209493968855, 0.5222360168992148, 0.3803054868686028, 0.5316793246525903, 0.39631647712119, 0.3271403180495731, 0.3654592694294656, 0.1529624446849274, 0.1342737469692768, 0.3528653944586253, 0.13285698636186433, 0.5336348590934222, 0.5472801988361881, 0.5196263368340625, 0.12284222955247776, 0.33449911308742036, 0.44061464551748747, 0.1595818873206543, 0.09959063844471563, 0.48967474945737255, 0.22292745560780494, 0.21737241959165735, 0.32478942026862884, 1.0134924795291278, 0.11390625088576803, 0.15206832129971096, 0.45767448822167467, 0.3205369435037105, 0.3732066056327642, 0.4401537165894399, 0.1333085773146739, 0.4169169726123832, 1.0354813162889667, 0.8876187983838667, 0.5191793475406689, 0.09935258279549579, 0.2594696298466288, 0.12743702327836948, 0.3810272225519866, 0.6688392221595705, 0.11903932801342414, 0.10624293490577479, 0.43345307996800003, 0.3690360589035994, 0.7855109050793219, 0.1627805874963924, 0.37875894301100016, 0.3445950415572197, 0.5371953923586669, 0.5923245827863591, 0.2076565424286353, 0.32348830922294164, 0.4870429238262933, 0.36931886220208093, 0.2600787907870828, 0.15060395404510168, 0.14297955417002833, 0.33283444265096557, 0.36327338801370423, 0.3392203186852772, 0.3243349412547783, 0.4766945371989326, 0.24971314544073228, 1.0506243907643924, 0.36474751265514277, 0.15533450576204194, 0.3659077091799112, 0.5189370700864001, 0.30194371039702816, 0.37864311899714864, 0.32289978563589045, 0.30839673129836626, 0.2284044096146006, 0.13607605082410443, 0.3238517207671222, 0.5659328413684918, 0.781803630038182, 0.4189117528134986, 0.44404411560687546, 0.38161049256156726, 0.33855343498148155, 0.1211980223140426, 0.5461057027982386, 0.7139657326242266, 0.21149036645565425, 0.47406939029917844, 1.0378598792078244, 0.14757332187423394, 0.28241699340680354, 0.352686801265398, 0.3078018229876337, 0.3729816850201845, 0.5196934284204447, 0.216621442900174, 0.37466735801284007, 0.2151199552834712, 0.5073453490955753, 0.3808704046918699, 0.7891378710578597, 0.18902086252809525, 0.6230012174280777, 0.3923987958344374, 0.28110785301732205, 0.4384276750013346, 0.20537293669486342, 0.24867038384474935, 0.4270946743321202, 0.18042806346723492, 0.20004503553355132, 0.3805629846007586, 0.12985405597142727, 0.17940101191958643, 0.1785120533540788, 0.8041067709266327, 0.5067735343075084, 0.24865084798930248, 0.44793277431169637, 0.4305080365807303, 0.15150992260899193, 0.16827679966927908, 0.13953641587218363, 0.5993088873098771, 0.3812428146834066, 0.3284519784331963, 0.424601045244921, 0.3837292597519391, 1.4185352825125677, 0.19519218805829414, 0.22491153620279591, 0.15268684710298375, 0.7869563281962536, 0.5179580381926024, 0.3275814082673966, 0.0938069334216513, 0.519688057880955, 0.1174421203769772, 0.4423406488710202, 0.38332444570464075, 0.3196984910286278, 0.43107336993657125, 0.7541478677170727, 0.2228392347016787, 0.17727938634193458, 0.24103732223611793, 0.37273880515420266, 0.3973220893846052, 0.3834023154025805, 0.3544233672649886, 0.3825633341160087, 0.4375595239974961, 0.1614570607230748, 0.5174552994533171, 0.4795423324154483, 0.5262885007452808, 0.24527984310865308, 0.22413862737823365, 0.542933775102031, 0.7894590435591365, 0.35555502436006037, 0.8364100512142184, 0.5621011976244031, 0.15237513340648234, 0.344562817441047, 0.7609103230068744, 0.7834921045444564, 0.5711733428914344, 0.42714405605801, 0.4270011708224005, 0.15231114569032128, 1.0386005825671099, 0.3895551415312648, 0.3086101008646447, 1.423745129691316, 0.3811871686211447, 0.4208075832733215, 0.10638444735401409, 0.5630143569027379, 0.6612402093868402, 0.1159853249014959, 0.5939288033613124, 0.5437197705855155, 0.18337102260534247, 1.037477043537568, 1.1257258020003504, 0.33053612911561014, 0.42413586105715856, 0.07811062423857154, 0.7778121234551323, 0.2097415858190236, 0.20055595719054412, 0.15612490437707907, 0.1868742932137363, 1.034943419965484, 0.42733228221901515, 0.1595248289756971, 0.16917723589421998, 0.4323199805372609, 0.6720969286230645, 0.3959228824913136, 0.127659703205466, 0.5041289110002164, 0.12822245258877643, 0.7621815604500359, 0.5952787537135198, 0.6071865672182651, 0.3839289072547002, 0.774301658041851, 0.5376976944314732, 0.2305639689504897, 0.15459782033911246, 0.10478054281819642, 0.10068065197169933, 0.2457923022482027, 0.7132258284493509, 0.32247896093238954, 0.7511592404659609, 0.22356771041189888, 0.36691405786274855, 0.5245638649747144, 0.5580565361824926, 0.3152563809158425, 0.36297724022174543, 0.3533572164335927, 0.37776956599641925, 0.29618660111562795, 0.41157212650878255, 0.10927867440130873, 0.14523579367548484, 0.35132033165253423, 0.25506640875187875, 0.31309481722983085, 0.364666194387861, 0.33239547861968266, 1.0394899506397035, 0.5049318225695832, 0.5383308177455409, 0.4355211304338697, 0.33152748462445586, 1.0393916181543459, 1.015506017356975, 0.48331818868829785, 0.38097483615556127, 0.2693637468971438, 0.39903270549691466, 0.08835255392935344, 0.1495323855088615, 0.6004559896284278, 0.08082584995969007, 0.12172563672148846, 0.5834142200398689, 1.0402807892938442, 0.3883442240766741, 0.11424588709273827, 0.36838930633489986, 0.51414967777596, 0.3770025228194391, 0.44081712766102105, 0.5336723721773413, 0.14624376407520034, 0.3794889678879716, 0.3649345153603807, 0.30748270878970346, 1.2800243919412313, 0.24565907685277183, 0.34436669962261734, 0.5381634054126775, 0.560218170704064, 0.12527207472857865, 0.09737757626375917, 0.13333428938190559, 0.18121418595295233, 0.2388246480455498, 0.1850234062440341, 0.21954557237900027, 0.15204475987359964, 0.31721827737481073, 0.12372131799857919, 0.8387148809473316, 0.1588063809086676, 0.35312926629981795, 0.3833209453837593, 0.7073771078180109, 0.32300504871985614, 0.2924790841035112, 0.437675434607818, 0.4272903810199414, 1.0398751912018362, 0.18917149591914661, 0.7804451463753738, 0.21182749223600567, 0.487331483456836, 0.1792683008255777, 0.3891010211406605, 0.3127405891179218, 0.21513946193308764, 0.3774648878209789, 0.3846868842527904, 0.9481141185372122, 0.42763023750722856, 0.15471495080083547, 0.49192133817126465, 0.3588612019578344, 0.4900132753197005, 0.30633953702828254, 0.2882517706180446, 0.18451002746045647, 0.5394160664366607, 0.36620963282321295, 1.301568895669912, 0.3921158701204268, 0.4051110433401339, 0.736532678923175, 1.4469143754612395, 1.0315686210442498, 0.320415171722078, 0.345709503976944, 1.420810269538456, 0.24505001460679043, 0.7518302243893907, 0.19895141830761726, 0.4682312007258835, 0.6375047798654344, 0.1916560749541551, 0.3811112438772215, 0.388249778047861, 0.48275638721807856, 0.24810442693805118, 0.4384283084422926, 0.09738389880115773, 0.11820631121149729, 0.27257679288699466, 0.4308618088095268, 0.24523228946291264, 0.15257991555143116, 0.19079138331440398, 0.17351884768996123, 0.38325851523241716, 0.5045718098793558, 0.21922576343709996, 0.09520721428208659, 0.18507957625307994, 0.17179907311793044, 0.21862445525064003, 0.13518697721423137, 0.1469087433545502, 0.22665825479599191, 0.14694322448673972, 0.38342842545711253, 0.3809104198724472, 0.17358812731928908, 0.43806754583203317, 0.43167092198231954, 0.25890003408501566, 1.2363554428203767, 0.3162175644675494, 0.12014699321276134, 0.44139659204557397, 0.12078696940520132, 0.3354534628738164, 0.18520768283736946, 0.4228433816986477, 0.1670613285181513, 0.16345702989789646, 0.15184946532962643, 0.5089651235987931, 0.24551005525711372, 0.2497599081701763, 0.18422649042090708, 0.6842661086249331, 0.3659238691031329, 0.38950426272724836, 0.465843244749049, 0.4775647947449037, 0.4186021361308398, 0.14433345370664258, 0.4289477132086779, 0.4831858313214204, 0.3584541400901698, 0.36683710292159605, 0.13978528480894697, 0.3841836487526065, 0.42902059704708423, 0.22300526740043752, 0.3092139015919733, 1.0391426670555877, 0.37616198191491185, 0.6130807541087632, 0.08426696559303454, 0.3804283824017071, 0.7591654965417672, 0.12796925912479581, 0.6051310801816447, 1.0366590514805643, 0.6744874960257675, 0.5169131861337973, 0.0802548211320256, 0.6663142686457655, 0.9485682379585847, 0.11068479036612107, 0.11501564758186252, 0.3168497356870224, 1.015159024978248, 0.12330539379639355, 0.2462724826986801, 0.202733026736875, 0.8120859975271439, 0.7885032071807448, 0.9481764851531328, 0.24475746519244707, 0.14928332539462294, 0.15920233308240758, 0.1521674085572818, 0.13085827423368732, 0.18812565533659073, 0.7088252503090215, 0.15281887136133596, 0.09225661108469571, 0.12661107619172815, 0.12995702105408488, 0.19865157583911053, 0.515960174624282, 0.44391677140730146, 0.19689885872665974, 0.3819660451509083, 0.38340038233965434, 0.125359541594426, 0.3804974760793283, 1.0412424766285213, 0.44434066973282543, 0.10212136812208349, 0.1585800940636548, 0.518863322655466, 0.12368063679068363, 0.556972201444079, 0.18338771680044963, 0.36080508124877203, 1.0399046876209572, 0.48644983892297866, 0.1736388022101628, 0.5191457560396407, 0.5376334640604689, 0.1658621133303938, 0.13969170039319245, 0.20102967175352326, 0.12677375154361592, 0.7396961561225864, 0.17601432509746495, 0.3766574433211876, 0.40082660630346295, 0.31312623872387046, 0.4386623173246617, 0.1980758885296866, 1.1724523365390702, 0.4384430715647314, 0.09261138627499244, 0.30391531590190574, 1.0371273513945278, 0.28778234360025784, 0.4745256939153129, 0.10616851407173478, 0.328430848562077, 0.23596614366382912, 0.1106454055255305, 0.3881429548887536, 0.3165713479375634, 1.2349260715550554, 1.0362014875794512, 1.0405660405868002, 0.3024535627926076, 0.38443483854393945, 0.43113814278315005, 0.10687960077534936, 0.7887647128154818, 0.11204863889968547, 0.19593413158482598, 0.13363422010903286, 0.31948386899981324, 0.1093159760063454, 0.3227046603806362, 0.12918110577744718, 0.15100067113028284, 0.18442156135889146, 0.21992582811231567, 0.2158172242514517, 0.18604072154085852, 0.24530096711106278, 1.0476320886629695, 0.13244145591829254, 0.5304019770354147, 0.3237143922470277, 0.7349144396160209, 0.4894919938442659, 0.38035900425395863, 0.3065389123534292, 0.4801208469683875, 0.5188130503773014, 0.3895482716333246, 0.7593352034589399, 0.31160240296606767, 0.7593306646565535, 0.1021203850217162, 0.39505317589474975, 0.5195724492268616, 0.07518284915323574, 1.0406894023035327, 0.29385769073687273, 0.3808048957189115, 0.4803028753051632, 0.33178194541376427, 0.7010281966082184, 0.34345209882394895, 1.0347368394070153, 0.18659382740093544, 0.3257636688205653, 0.7371399292749689, 0.47199615234336817, 0.3483657636483059, 0.36491164175163887, 0.36816990261065924, 0.2814755555111638, 0.2516414678640572, 0.4726731845983167, 0.3309870220735249, 0.38672554707990797, 0.3892478226791802, 0.21831246201967325, 0.35517016808946, 0.3882978865602313, 0.38180040305667107, 0.9482137885861256, 0.3514228637279565, 0.3957447139129989, 0.10244738106666347, 0.4060888828947413, 0.22595201736875176, 1.0433951878586272, 1.0402934165989195, 0.7162181305507739, 0.4605362404281005, 0.21568796614882818, 0.35446040058779604, 0.21724205807717994, 1.037068793855197, 0.3625180089944465, 0.22257012626496475, 0.1437380492250932, 0.4220305084359816, 0.43791511855029425, 0.15957900154559754, 0.15364420776119234, 0.21276696529096314, 0.14960252746937552, 0.07548888757595693, 0.36796396921937197, 1.0363179927187565, 0.12156116152997073, 0.24795340611190683, 0.188847420033163, 0.39457783082901354, 0.7115860671748236, 0.4380179405764553, 0.12705641719416255, 0.1615173654230501, 0.3176419931048422, 0.43483654412167927, 0.32904953578544865, 0.3838340302861714, 0.41851390544197403, 0.58679683685359, 0.4847504232064277, 0.7090430354837092, 0.32564723055271805, 0.7801508475327095, 0.4056719976279195, 0.37768294561812416, 0.31209609297138374, 0.39422581876135243, 0.14565245235294003, 0.5195127031396359, 0.22415660313406421, 0.12594146919257015, 0.12207109368689559, 0.36614339293407316, 0.36883976514652805, 0.5344332285637237, 0.4835143043662484, 1.0373204486551757, 0.978770327789021, 0.5936782892305239, 0.6013171865856457, 0.5276327931202893, 0.6929090006716401, 1.222569990617351, 0.4321756054302153, 0.4410954883547032, 0.11663354677944876, 0.7833904327532653, 0.5891844909404593, 0.38302691491684576, 0.13411943035838753, 0.5399197730381896, 0.14997972899929513, 0.1719328606495262, 0.29808471910641504, 0.43118359734532635, 0.085327847583492, 0.08846361135370563, 0.5187124899075788, 0.5190332209082489, 1.036543900814444, 0.38054377059796235, 0.9096586306113614, 1.042094532473343, 0.7747601613484364, 0.4323577997706875, 0.07592826136737621, 0.18795457242004268, 0.15149196516637822, 0.21851246470638166, 0.26788786942263076, 0.18408246937762776, 0.1852269509393836, 0.1685534039751238, 0.742936375749033, 0.5178566691266059, 0.7678890898335533, 0.09111772587639705, 0.340367156068701, 0.44754540707079765, 0.3770235670107359, 0.364573458273131, 0.31905597422639026, 0.3631609928868928, 0.47047569391792754, 0.5594207178467001, 0.6678564933764561, 0.4836815507048154, 0.15475232741270833, 1.2736511874904806, 0.4617772845473148, 1.0369407056242197, 0.16287984142951284, 0.12988109141237142, 0.365659648227932, 0.2806788269026151, 0.41545749024337236, 0.2212289852914105, 0.42672519473516424, 0.3283315778339316, 0.4082261657180369, 0.4065017362498112, 0.33937199074340124, 1.0383434024899234, 0.4606566624499459, 0.24513896522519135, 0.5962492663688883, 0.5979667726819591, 0.5196469457237092, 0.32404128332948456, 0.4190234087789142, 1.044198092249646, 1.0404005714582374, 0.3396735737662544, 0.3165620312877632, 0.4828442914786461, 0.45414672196662703, 0.08844290571433373, 0.30816077745097425, 0.31215913630202374, 0.600688477887696, 0.4221606982319721, 0.09059107428845022, 0.14162401263589652, 0.24496283338396257, 0.3889035294633884, 0.4383878628284943, 0.7101102693479102, 1.0385979066173145, 0.5044375954898034, 0.18283070498678894, 0.17275637930265061, 0.22448647916711847, 0.22235422444362327, 0.1261814157626334, 0.12213415702034722, 0.17901320177478594, 1.0392108943432374, 0.12255143943094934, 0.14143558791716782, 0.3814882784540635, 0.12608505212889662, 0.3802343570783854, 0.5244657671364542, 0.4451862371554976, 0.47009876380222443, 0.7629868907514237, 0.28675590427942527, 0.42512428056809287, 0.13688308779026076, 0.12681873233946872, 0.38133267759834916, 0.12177391712543148, 0.5187540438580702, 0.36230343065421683, 0.35403670111975305, 0.2223508349113671, 0.445696654737162, 0.40694960281284936, 0.21212788294716434, 0.17385407950295162, 0.5705817714472866, 0.5164125661639284, 0.14064441287835494, 0.7517649504795075, 0.30213697109364135, 0.5612984067833361, 0.20316522989377306, 0.3664244418345889, 0.3805734277459224, 0.11346361488009121, 0.3780581236701563, 0.19304135004903805, 1.0393122288258534, 0.1764982668583078, 0.6719396542808201, 0.517154762500397, 0.10523812267463076, 0.15077754842597846, 0.4407276352943427, 0.09122068184961253, 1.0152207795368011, 0.32524540266127444, 0.5155227533596266, 0.5203990357089273, 0.4433391109708005, 0.18655534306227547, 0.15687143346052745, 1.2352225083035264, 1.0359732409377684, 1.0376108783436748, 0.3658895790190123, 0.3860421019647625, 0.5367487683805344, 0.5895120574243443, 0.14879253365365788, 0.23757773173643618, 0.2214116565920813, 0.21711806525939129, 0.18135552282066617, 0.1970653063119764, 0.22394990535108708, 1.0351272627686514, 0.3191534779034582, 0.1849131919599495, 0.5192759665287038, 0.3835648848058632, 0.5549200897595814, 0.3802529903331664, 0.383727878838694, 0.3812525728508897, 0.15142432478507523, 0.3625685668169533, 0.16822997713184282, 0.24518892939918546, 0.23927799190503551, 0.1612882892704499, 1.036862875677533, 1.038828852569244, 0.4286395996510367, 0.5184508922660046, 0.22133869810391715, 0.3164604735446192, 0.2600834382473631, 0.15030830191012562, 0.37654721123756424, 0.3707094625546747, 0.24854769057874243, 0.4891392045891502, 0.4765311364708817, 0.31338011585984965, 0.31381032006181137, 0.38399548869287875, 1.0412569483237757, 0.42049213048943557, 0.3485395491261018, 0.44234937753419973, 0.38234941809999173, 0.3553087550441437, 0.23839713239954663, 0.17942291806344302, 0.1287988283666694, 0.4365200022086866, 0.3807211095426591, 0.3479769947138574, 0.37904078268246294, 1.272465097056289, 0.8124698179956219, 0.9100824400455728, 0.22220460155350746, 0.11441149761318266, 0.08831172610431844, 0.4386244835620503, 0.3396997958162911, 0.5167475509608247, 0.14716818429526682, 0.25021524380809157, 0.15324924528765993, 0.2271186598042536, 0.6050187738815598, 0.4273111710922251, 1.272167253617616, 0.38883121886902106, 0.1331349034654099, 0.4215639794555759, 0.18354879653655304, 0.19666547891673586, 0.4317264991967357, 0.1533585767403802, 0.16446838213656842, 0.0950635810923681, 0.1767719253165647, 0.1534203324103056, 0.15023458992801106, 1.2157807572845192, 1.2277103743637232, 0.11067990125000146, 0.37082531489101733, 0.1981913165049473, 0.430375506359588, 0.3345281585501205, 0.7613041224460417, 0.12825276432015928, 0.6867168951187809, 0.5184835214303861, 0.07560211560143724, 0.5382497935768806, 0.8381017949382676, 1.2364684742612435, 0.3824998261816678, 0.5376098651699227, 0.16873573504066608, 0.3837147883810716, 0.13586980037111807, 0.3838852815607863, 0.38108707198593783, 0.519159569461088, 1.0461002999510567, 0.17434591111462158, 0.5569324209069353, 0.5537914723223483, 1.1295543487680564, 0.5725557672082213, 0.3878431884854723, 0.752415908346673, 1.027793038106434, 0.36949684390370363, 1.1661098948951856, 1.1679906172045373, 1.099890216952104, 0.5195782920254396, 0.2218987287706275, 0.6557024467906063, 0.6780242626170507, 0.31231725800046056, 1.0391576135916198, 0.3772268778744759, 0.28134177275126, 0.3846940597735976, 0.07081914814620117, 0.36579770573426135, 0.4313498055227946, 0.11470371794316093, 0.37094002321035235, 0.1156936313992314, 0.43491156923292396, 0.5821369699125286, 0.42719265022136327, 0.42466085835629613, 0.3621995194677852, 0.44119312654073595, 0.42756556098658177, 0.3626386486552657, 0.2463756131284664, 0.5362054875664561, 0.7226363456757863, 0.22161862977797747, 0.325278455445228, 1.0371609190393591, 0.761743386631541, 0.5369556539490973, 0.6811679695648295, 0.25646013592850186, 0.128644736465414, 0.14383140617482185, 0.12729244616950866, 0.2197575888054604, 0.19689721482007586, 0.16559703252422522, 0.46458613101161744, 1.0387616278870067, 0.1772765985016539, 0.18537492846782777, 0.33764179232095637, 0.7746671822240122, 0.37991291031194, 0.20485039341947292, 0.43844595042225926, 0.08626886636856272, 0.09182548074042844, 0.38363191002133723, 0.12386028372182215, 0.25276625506887873, 0.41793201419416465, 1.0404028857572043, 0.12088089551844265, 0.10480209735154448, 0.4292662308050531, 0.46218082343364264, 0.11613088779348205, 0.38237140156812516, 1.4499957925550804, 0.32316915725500006, 0.1987619733957383, 0.12588742810470943, 0.6717092038164248, 0.4636828602834666, 0.47581331958793843, 0.4748807870867143, 0.36869858554008733, 0.17418794214124805, 0.19765967103215193, 0.2502068766415025, 0.25456687088230684, 0.44310825953164074, 0.481919026637971, 0.42720666447131667, 0.3223635498190803, 0.3801535845772418, 1.0333256906173336, 0.4378430794270864, 0.34458250904845955, 0.3172210520255112, 0.41542041115327266, 0.569957416256907, 0.4734093149032222, 1.09621813076104, 0.25309849025933345, 0.1662812170333069, 0.717631158087093, 0.5425634330043664, 0.3865142893125636, 0.1621626516651244, 0.12374630409611916, 0.38886921537036523, 0.7806867588340958, 0.39954855937239353, 0.21889240321763517, 1.2286253384680514, 0.11139281273379145, 0.18836071177463926, 0.20821387066017466, 0.21604000384824118, 0.37747444668790464, 0.5241707267140673, 0.7794535947734066, 0.43329687951446955, 0.47387843899499854, 0.1454912834264089, 0.6075422996504072, 0.14520149949039726, 0.18750998102262492, 0.15948608095280256, 0.21756589883523922, 0.3803524794149747, 0.3809551216628018, 0.15285516081197023, 0.15200639180011344, 1.0495426773071754, 0.7391657948708136, 0.10829448137014547, 0.14240738920544094, 0.3835377306735197, 0.5194468021798955, 0.42506496378539826, 0.3838651007081649, 0.39188386353824656, 0.3069528939875775, 0.18338719882304788, 0.555104276976713, 0.40271371842824294, 0.08068649116398739, 0.12498554178981856, 0.0867688505071623, 0.1305822368642029, 0.10747704666331935, 0.40378630547217537, 1.105331167997352, 1.0405627437614302, 0.15065973240943686, 0.7111394869126993, 0.38108503300620605, 0.3811569670891452, 0.1961288405456552, 0.1265108409684767, 0.11958967606684553, 0.47268991933890414, 0.4723596391184831, 0.3753321966918325, 0.3425619343078129, 0.3446550880737821, 0.35810529742278485, 0.7739853787871095, 0.34213464216902845, 0.4757066392138395, 0.16062800819346246, 0.5675958233326527, 0.1517605109436691, 0.4856595451410648, 0.7738756742020991, 0.400543344441598, 0.13519395662178746, 0.21124074750011992, 1.0382070064800468, 0.1320490809843523, 0.7801546839409003, 0.3883765487631127, 0.1127615882461971, 0.1108198628456233, 0.14574232261830788, 1.0474184550037404, 0.552659707665058, 0.5128378576993248, 0.5165995050525828, 0.5207286013894793, 0.38136050474299193, 0.5241204544359027, 0.8681040831033868, 0.3839489559165912, 0.515047468730242, 0.45873319479732966, 1.040069439226383, 0.5277663936694602, 0.42729051226572684, 0.3089632765105809, 0.1738002553547379, 0.16487944396123635, 0.10867087852844617, 0.14408690993558051, 0.1296104735109216, 0.26726677422153516, 1.2315266486920864, 0.18109037114057328, 0.16215538195961768, 0.4609724526631577, 0.5998661788957353, 0.20309313344257074, 0.43894118620332573, 1.0387672775864705, 0.3233591978237906, 0.12718084888486153, 0.1341936218474111, 0.3262453811469235, 0.5566624355587968, 0.19059024293165328, 0.5541349750727753, 0.3759132927132743, 0.13439981599898107, 0.9500094761786944, 0.18575756309827499, 0.28822443481320875, 0.776003470395805, 0.6868457236982672, 0.13905504064877927, 0.11618490114492355, 0.3766858378696724, 0.468183688398426, 0.19031101355769928, 0.26690787307980884, 0.4843865732579499, 0.3870901843767453, 0.37556713233661626, 0.5706615429673345, 0.3017461966164842, 0.36372206652464073, 0.22470084719497024, 0.44758499733775253, 0.4705987472677184, 1.0367794506017187, 0.13646086869756066, 0.5419713793409376, 0.5156779797999055, 0.39688441965382837, 0.5053770423400137, 0.6907483557111063, 0.562841438340014, 0.15084053801519232, 1.036874420127573, 0.12735602400968501, 1.0256612402416876, 0.3508960811872107, 0.2501275806941926, 0.17415739095644722, 0.7773723750641416, 0.13030099795700817, 0.08818222757249546, 0.5313158611479367, 0.5159852087201444, 0.46109750535916, 0.3869786202075401, 0.4380873253182043, 0.31752879499311665, 0.5913107371631543, 0.8763316033628701, 0.9107805698375262, 0.4273421874170154, 1.439931231760453, 0.2230038539420221, 0.3771180712063282, 0.20291988913224202, 0.2207532477462263, 0.62221394075973, 0.12935320294664596, 0.1608977058936529, 0.1871426968179752, 0.13278675335061482, 0.1656702355042545, 0.19972195599559558, 0.15162429425485843, 0.16619215534163675, 0.18080509188455426, 0.3040863811621676, 0.7122110013950964, 0.13229212099082677, 0.12730627517094567, 0.33737701101852585, 0.9866873519592751, 0.3451016814689034, 0.6565798587812275, 0.3803383300160353, 0.38114725888309425, 0.3636044750570922, 0.4409083997046868, 0.42771712531608885, 0.32058201543028575, 0.16242747279224135, 0.11468384619322954, 0.07516969559646425, 0.42957736639561755, 1.0367202984275035, 0.4816142749868281, 0.13118596492279685, 0.7336706842820886, 0.4549365318453338, 0.20003998168731663, 0.37246023933188244, 0.6035218940918518, 0.5453635826703581, 0.47545163704814875, 0.17300125660043952, 0.3444177580921737, 1.0363776068154882, 0.15025538851550357, 1.4220356564404566, 0.35601371091887635, 0.8617708688856174, 0.3561267125105194, 0.14310781522626548, 0.42184099989025725, 0.5634433472467643, 0.5963851152162968, 0.31324278733975514, 0.3806896891068396, 0.2587633785345391, 0.46643560412640306, 0.38504893160496173, 0.4356872206131438, 0.3829763955284843, 0.5680424559326948, 0.6755847355876167, 0.51914688422988, 0.4374096813668662, 0.4224228235046597, 1.0353310869656203, 0.3839754098575649, 0.41852695064785433, 0.17954325053747583, 0.5375329614756772, 0.42695881831969085, 0.4679527217688253, 0.1733031194402208, 0.3273079024789272, 0.38148972078788895, 0.8036922920151717, 0.536895621908912, 0.7503899927415717, 0.883956120562499, 0.9390532479544448, 0.46249775615015926, 0.15867004791944675, 0.12885740220528044, 0.1882734093053349, 0.5418205159488361, 0.15687363584353145, 0.22655709694503637, 1.0164124639771552, 0.17058810809670868, 0.17690129207823782, 0.31681214636916366, 0.23564508767405287, 0.3823894824955821, 0.12392060823821185, 0.48391096340435097, 0.12869954286328694, 0.12898388400210178, 0.43866800151986435, 1.4368845022604984, 1.0038748012366778, 0.4357975880204557, 0.9856112706534338, 0.18858560141293645, 0.7644994391795392, 0.38071783080762023, 0.3145221919868955, 1.1691655862166583, 0.2788864837240614, 0.43812559446771093, 0.32883629047975815, 0.24530078072589118, 1.1254764113093374, 1.0403654705295098, 1.0366711978014977, 0.5375090246310047, 0.38701639397038784, 0.4968370498810691, 0.41561932386737493, 0.36929551627771656, 0.6558826175074106, 0.3297936117896432, 0.42535677800994504, 0.17744386216991598, 0.1743188535761176, 0.14933079123733944, 0.3629178091432051, 0.38081563037113686, 1.0364176134632377, 0.153380722650777, 0.1266574018668189, 0.4386075755773578, 1.037935722066907, 0.562812591375641, 0.355831819062065, 0.07768565795099376, 0.5368974805503322, 0.5657090723217189, 0.5609349863293382, 0.290326266493802, 0.37792483175795205, 0.5200022192186489, 0.4488688090853264, 0.46020333512890993, 0.5383429380511503, 0.6088964995971518, 0.5232061243839918, 0.48406975109645844, 0.4699839865829681, 0.6195442781163781, 0.35290253511013686, 0.22335669560715474, 0.16061644224468438, 0.17168169030890454, 0.14254913743418726, 0.1355532854093083, 0.17409297171808888, 0.15932336552196688, 0.1767758442425594, 0.1384118255355594, 0.20218948498473488, 0.12857126338866215, 0.38690956049593983, 0.48547432767053356, 0.17489440809096227, 1.007216215005758, 0.3202737006863282, 0.24026529351103448, 0.31042499755553393, 0.3835245101793325, 0.2070982694302947, 0.6781455918919153, 0.5595556877614842, 0.5116096036409306, 0.3838573099264991, 0.3178617054342126, 0.404543274034269, 0.42940669886148236, 0.6860105406673573, 0.5199277301140091, 0.35867814558272376, 0.17738513669370523, 0.3256575037219277, 0.3850246344959628, 0.1524779036601939, 0.5203013591668791, 0.44829834811334013, 0.985095649184977, 0.2572401286276643, 0.37609573682462016, 0.4005501018583252, 0.4696018630305331, 0.48455909155012467, 0.4837903071385482, 0.5549362353761181, 0.3658623451708819, 0.34478227533085704, 0.2208466309714332, 0.3811596741363489, 1.0376132833508755, 0.39497307576855445, 0.5165887055664841, 0.5200673456209481, 0.4409700072901226, 0.34294331999559297, 0.564186252452885, 0.519713993548692, 0.17490582573184196, 0.7855571870131084, 0.6220745915075381, 0.4741635257380233, 0.3838117731533194, 0.524619935289501, 0.4472674659388775, 0.35861261024127056, 0.4387535893683275, 0.38348570577981084, 0.4379906047716195, 0.19120728751163432, 0.2373150806016148, 0.18808041994980576, 0.3663239254630897, 0.2216665867255684, 0.42984653598213374, 0.1405507672130816, 0.14635327162152825, 0.14558324090265265, 0.0901099733187688, 0.7045170817710381, 0.40206135838020274, 0.7988063269322733, 0.413000259093905, 0.43601258921301517, 0.29226902825569323, 0.5172490552169411, 0.5170255034806033, 0.4612403748760995, 0.3160957270827408, 0.43896452379672846, 0.141697844286305, 0.5999201889685657, 0.9094030971047125, 0.4804830604982846, 0.3726845269882353, 0.12758280488154886, 1.2388664654068982, 1.0365331489706597, 0.4138482602217582, 0.6008910975209517, 0.3652086899529593, 0.3187821131237968, 0.38952944390325117, 0.46493718640390086, 0.5272521438079082, 0.14587593999144643, 0.7618115364390172, 0.5431708969812001, 0.44280163734058475, 0.19007810298671826, 1.0378932735485245, 0.2868784700201629, 0.19639985733022763, 0.17069002219728796, 0.4222308217327217, 0.2050738580217803, 0.17283743917774425, 0.4698668615948733, 0.20485710096226833, 0.20187406797327506, 0.13867217578621016, 0.26939303975046863, 0.977329747028703, 0.6846279047282825, 0.5712332871304772, 0.792914892832565, 0.15194211404358715, 0.7682423868862235, 0.4409389980941488, 0.429946100826527, 0.7514515189845012, 0.35890104448039595, 0.40184931157154963, 1.0380826324717616, 0.13366394769773335, 0.13286582263522134, 0.42700534723542416, 0.5378492138804652, 0.7917026750539001, 0.20092236885817139, 0.31577377623965086, 0.38088489053823915, 0.17173045333134915, 0.17309783177639793, 0.5191215190844455, 0.13364167981621367, 0.4024198084171704, 0.2194189562139826, 1.2063098606609575, 0.468121751763351, 0.624755361522875, 0.13472425740102162, 0.4449057487540608, 0.18035375505399995, 0.0999962810564767, 0.1933505722469526, 0.14397622782403371, 0.20075864130082263, 0.22818125348762305, 0.09617438119609997, 0.2251685794903899, 0.5451435164076477, 0.5066710036294628, 0.5542571388394989, 1.0383059077354269, 1.2752743427826012, 0.7171355121414281, 0.5077967184713289, 0.9363343881130705, 0.15830376279134256, 0.40373039665346866, 0.14366334937212727, 0.10271268543814925, 0.39464157971942754, 0.5251043476853989, 1.0385376505144701, 1.0399182159223552, 0.38104213396030284, 0.3928133179991239, 0.4271120857473887, 0.3372226927697637, 0.13459955604154294, 0.38377672160444637, 1.0348800307454338, 1.4207184852070112, 0.3608815557895165, 0.7804348961980344}\n",
            "4668\n"
          ]
        }
      ]
    },
    {
      "cell_type": "code",
      "metadata": {
        "id": "-BxVPiRUWHcW",
        "colab": {
          "base_uri": "https://localhost:8080/",
          "height": 0
        },
        "outputId": "603bba31-949a-40d7-ed2c-0f3eb8418977"
      },
      "source": [
        "path_G = '/content/gdrive/MyDrive/1 Dataset/Music/music_labeled_data.csv'\n",
        "G = em.read_csv_metadata(path_G, \n",
        "                        key='_id',\n",
        "                        ltable=A, rtable=B, \n",
        "                        fk_ltable='ltable.Sno', fk_rtable='rtable.Sno')\n",
        "print(len(G))\n",
        "\n",
        "gdic = {}\n",
        "cnt_no_g = 0\n",
        "cnt_g = 0\n",
        "\n",
        "G1 = G.to_numpy()\n",
        "for i,x in enumerate(G1):\n",
        "  s = str(x[2])+\"#\"+str(x[3])  \n",
        "  s1 = str(x[3])+\"#\"+str(x[2])\n",
        "  # print(s)\n",
        "  gdic[s] = x[-3]\n",
        "  gdic[s1] = x[-3]\n",
        "  if(x[-3]==1):\n",
        "    cnt_g+=1\n",
        "  else:\n",
        "    cnt_no_g+=1\n",
        "print(\"Positive in ground truth\",cnt_g)\n",
        "print(\"Negative in ground truth\",cnt_no_g)\n",
        "\n",
        "print(gdic.keys())\n",
        "\n",
        "def check_gt(w1,S,k):\n",
        "  rls_matrix = get_RLS(w1,S)\n",
        "  cand['score'] = rls_matrix.numpy()\n",
        "  candy1 = cand.sort_values(by=['score'], ascending=False)\n",
        "  temp1 = candy1.to_numpy()\n",
        "  \n",
        "  overlp = 0\n",
        "  neg = 0\n",
        "\n",
        "  for _j,j in enumerate(temp1):\n",
        "      if(_j>k-1):\n",
        "        break\n",
        "      s = str(j[1])+\"#\"+str(j[2])\n",
        "\n",
        "      if(s in  gdic.keys()):\n",
        "        # print(s)\n",
        "        if(gdic[s]==1):\n",
        "          overlp+=1\n",
        "        else:\n",
        "          neg+=1\n",
        "\n",
        "  return overlp,neg"
      ],
      "execution_count": 30,
      "outputs": [
        {
          "output_type": "stream",
          "name": "stderr",
          "text": [
            "WARNING:py_entitymatching.io.parsers:Metadata file is not present in the given path; proceeding to read the csv file.\n"
          ]
        },
        {
          "output_type": "stream",
          "name": "stdout",
          "text": [
            "539\n",
            "Positive in ground truth 132\n",
            "Negative in ground truth 407\n",
            "dict_keys(['111#53124', '53124#111', '148#50767', '50767#148', '206#41214', '41214#206', '211#19812', '19812#211', '250#53111', '53111#250', '250#53124', '53124#250', '251#53007', '53007#251', '252#53004', '53004#252', '252#53084', '53084#252', '253#53033', '53033#253', '253#53073', '53073#253', '254#53033', '53033#254', '255#49141', '49141#255', '262#53045', '53045#262', '263#53053', '53053#263', '265#53087', '53087#265', '266#53007', '53007#266', '272#53067', '53067#272', '276#52996', '52996#276', '277#53056', '53056#277', '283#53027', '53027#283', '290#22340', '22340#290', '292#22310', '22310#292', '303#22342', '22342#303', '304#22316', '22316#304', '304#22317', '22317#304', '307#22330', '22330#307', '311#22331', '22331#311', '312#22335', '22335#312', '314#22313', '22313#314', '314#22341', '22341#314', '318#22310', '22310#318', '323#22319', '22319#323', '326#22338', '22338#326', '331#22312', '22312#331', '338#26133', '26133#338', '342#27520', '27520#342', '348#35917', '35917#348', '362#37115', '37115#362', '369#19188', '19188#369', '381#33322', '33322#381', '417#33355', '33355#417', '427#33316', '33316#427', '432#33330', '33330#432', '434#33341', '33341#434', '468#363', '363#468', '471#1873', '1873#471', '499#29315', '29315#499', '509#55936', '55936#509', '530#44913', '44913#530', '538#1879', '1879#538', '583#379', '379#583', '589#55936', '55936#589', '593#43724', '43724#593', '599#43724', '43724#599', '625#8817', '8817#625', '643#24664', '24664#643', '668#24649', '24649#668', '669#24650', '24650#669', '797#33147', '33147#797', '802#29575', '29575#802', '810#29575', '29575#810', '837#23733', '23733#837', '897#44728', '44728#897', '957#44116', '44116#957', '970#42014', '42014#970', '1023#9529', '9529#1023', '1070#11280', '11280#1070', '1080#9503', '9503#1080', '1085#9526', '9526#1085', '1149#7760', '7760#1149', '1152#53319', '53319#1152', '1156#9944', '9944#1156', '1156#28098', '28098#1156', '1156#31315', '31315#1156', '1156#31316', '31316#1156', '1157#28043', '28043#1157', '1157#28097', '28097#1157', '1157#34920', '34920#1157', '1157#34955', '34955#1157', '1158#28018', '28018#1158', '1159#21600', '21600#1159', '1160#28053', '28053#1160', '1160#36950', '36950#1160', '1162#28019', '28019#1162', '1165#9946', '9946#1165', '1165#28018', '28018#1165', '1165#28023', '28023#1165', '1165#28030', '28030#1165', '1166#28015', '28015#1166', '1167#21591', '21591#1167', '1169#34928', '34928#1169', '1176#34925', '34925#1176', '1177#34937', '34937#1177', '1177#34953', '34953#1177', '1180#36686', '36686#1180', '1183#34075', '34075#1183', '1184#31311', '31311#1184', '1184#34949', '34949#1184', '1185#12109', '12109#1185', '1194#28028', '28028#1194', '1194#28035', '28035#1194', '1194#28037', '28037#1194', '1195#28078', '28078#1195', '1196#28079', '28079#1196', '1196#28090', '28090#1196', '1200#28017', '28017#1200', '1200#28021', '28021#1200', '1202#28008', '28008#1202', '1203#28042', '28042#1203', '1204#28028', '28028#1204', '1204#34917', '34917#1204', '1205#28054', '28054#1205', '1206#28009', '28009#1206', '1217#34022', '34022#1217', '1227#28051', '28051#1227', '1232#55282', '55282#1232', '1234#21590', '21590#1234', '1237#50752', '50752#1237', '1239#36684', '36684#1239', '1242#54232', '54232#1242', '1261#31320', '31320#1261', '1261#31323', '31323#1261', '1261#34953', '34953#1261', '1261#54231', '54231#1261', '1263#34928', '34928#1263', '1263#34986', '34986#1263', '1264#28054', '28054#1264', '1264#31320', '31320#1264', '1264#34926', '34926#1264', '1264#34932', '34932#1264', '1265#28029', '28029#1265', '1265#28044', '28044#1265', '1265#34954', '34954#1265', '1267#34939', '34939#1267', '1268#34951', '34951#1268', '1269#31319', '31319#1269', '1269#34944', '34944#1269', '1270#28044', '28044#1270', '1270#34932', '34932#1270', '1271#28013', '28013#1271', '1273#47808', '47808#1273', '1274#28008', '28008#1274', '1274#31319', '31319#1274', '1275#9950', '9950#1275', '1275#31323', '31323#1275', '1276#28042', '28042#1276', '1276#34931', '34931#1276', '1277#31316', '31316#1277', '1277#31318', '31318#1277', '1278#28041', '28041#1278', '1279#28023', '28023#1279', '1279#34946', '34946#1279', '1280#34908', '34908#1280', '1281#9944', '9944#1281', '1286#34075', '34075#1286', '1290#34069', '34069#1290', '1291#34034', '34034#1291', '1292#34089', '34089#1292', '1293#34053', '34053#1293', '1293#34057', '34057#1293', '1300#34039', '34039#1300', '1300#34041', '34041#1300', '1302#28011', '28011#1302', '1302#28092', '28092#1302', '1304#34094', '34094#1304', '1310#34932', '34932#1310', '1313#28034', '28034#1313', '1313#28040', '28040#1313', '1313#28051', '28051#1313', '1315#34069', '34069#1315', '1317#9943', '9943#1317', '1318#34036', '34036#1318', '1318#34100', '34100#1318', '1319#34956', '34956#1319', '1339#42070', '42070#1339', '1344#6234', '6234#1344', '1345#10530', '10530#1345', '1346#42069', '42069#1346', '1348#42056', '42056#1348', '1356#6233', '6233#1356', '1359#42313', '42313#1359', '1406#55677', '55677#1406', '1407#48324', '48324#1407', '1410#51597', '51597#1410', '1411#51613', '51613#1411', '1414#51627', '51627#1414', '1434#49521', '49521#1434', '1438#52974', '52974#1438', '1448#41615', '41615#1448', '1490#3901', '3901#1490', '1515#49705', '49705#1515', '1543#41601', '41601#1543', '1543#41625', '41625#1543', '1544#41620', '41620#1544', '1546#41623', '41623#1546', '1549#41618', '41618#1549', '1552#41609', '41609#1552', '1553#50097', '50097#1553', '1553#50100', '50100#1553', '1559#41614', '41614#1559', '1571#27523', '27523#1571', '1578#49555', '49555#1578', '1580#41607', '41607#1580', '1580#41628', '41628#1580', '1584#41618', '41618#1584', '1586#27556', '27556#1586', '1596#52962', '52962#1596', '1599#52960', '52960#1599', '1617#27548', '27548#1617', '1624#27535', '27535#1624', '1626#27544', '27544#1626', '1637#27559', '27559#1637', '1656#49516', '49516#1656', '1670#52953', '52953#1670', '1684#23754', '23754#1684', '1684#23808', '23808#1684', '1686#23847', '23847#1686', '1736#10929', '10929#1736', '1737#10941', '10941#1737', '1751#54990', '54990#1751', '1754#37581', '37581#1754', '1760#27509', '27509#1760', '1777#33431', '33431#1777', '1778#20244', '20244#1778', '1785#11761', '11761#1785', '1785#20234', '20234#1785', '1829#15267', '15267#1829', '1898#51663', '51663#1898', '1919#9361', '9361#1919', '1947#23483', '23483#1947', '2021#28220', '28220#2021', '2021#28337', '28337#2021', '2021#28370', '28370#2021', '2021#28422', '28422#2021', '2022#28308', '28308#2022', '2022#28432', '28432#2022', '2023#28186', '28186#2023', '2023#28193', '28193#2023', '2023#28273', '28273#2023', '2023#28290', '28290#2023', '2023#28396', '28396#2023', '2024#28251', '28251#2024', '2024#28436', '28436#2024', '2065#45427', '45427#2065', '2223#816', '816#2223', '2294#33167', '33167#2294', '2302#1239', '1239#2302', '2318#20291', '20291#2318', '2325#1223', '1223#2325', '2338#54267', '54267#2338', '2369#33820', '33820#2369', '2376#3584', '3584#2376', '2395#29866', '29866#2395', '2400#29881', '29881#2400', '2409#54268', '54268#2409', '2456#49237', '49237#2456', '2457#24324', '24324#2457', '2460#10380', '10380#2460', '2478#1223', '1223#2478', '2480#33820', '33820#2480', '2491#4514', '4514#2491', '2654#44086', '44086#2654', '2667#35509', '35509#2667', '2681#27482', '27482#2681', '2695#17181', '17181#2695', '2697#17172', '17172#2697', '2703#17195', '17195#2703', '2719#17201', '17201#2719', '2721#17155', '17155#2721', '2722#17172', '17172#2722', '2726#17181', '17181#2726', '2730#17202', '17202#2730', '2732#17172', '17172#2732', '2732#17212', '17212#2732', '2735#17197', '17197#2735', '2743#17193', '17193#2743', '2743#17218', '17218#2743', '2745#17213', '17213#2745', '2749#17170', '17170#2749', '2750#17173', '17173#2750', '2753#17227', '17227#2753', '2769#50584', '50584#2769', '2783#31567', '31567#2783', '2810#28385', '28385#2810', '2810#44258', '44258#2810', '2813#47900', '47900#2813', '2835#53292', '53292#2835', '2842#52889', '52889#2842', '2846#52904', '52904#2846', '2863#22993', '22993#2863', '2863#42560', '42560#2863', '2902#21484', '21484#2902', '2914#21484', '21484#2914', '2940#48495', '48495#2940', '2960#7500', '7500#2960', '2960#22525', '22525#2960', '2963#22525', '22525#2963', '2980#37119', '37119#2980', '2988#37119', '37119#2988', '2989#22527', '22527#2989', '3004#8060', '8060#3004', '3018#22526', '22526#3018', '3044#38037', '38037#3044', '3094#23021', '23021#3094', '3105#23022', '23022#3105', '3176#42631', '42631#3176', '3237#5548', '5548#3237', '3256#4535', '4535#3256', '3260#4539', '4539#3260', '3265#25886', '25886#3265', '3271#49193', '49193#3271', '3272#7929', '7929#3272', '3293#7443', '7443#3293', '3309#7390', '7390#3309', '3313#34343', '34343#3313', '3313#34370', '34370#3313', '3314#34367', '34367#3314', '3319#34375', '34375#3319', '3320#34376', '34376#3320', '3321#7360', '7360#3321', '3322#34355', '34355#3322', '3322#34382', '34382#3322', '3325#7360', '7360#3325', '3325#7406', '7406#3325', '3328#34341', '34341#3328', '3333#7415', '7415#3333', '3342#7374', '7374#3342', '3347#37645', '37645#3347', '3350#7365', '7365#3350', '3351#7391', '7391#3351', '3355#17655', '17655#3355', '3355#17672', '17672#3355', '3357#39370', '39370#3357', '3359#39355', '39355#3359', '3361#17663', '17663#3361', '3364#37645', '37645#3364', '3364#37650', '37650#3364', '3373#7440', '7440#3373', '3377#7417', '7417#3377', '3379#7380', '7380#3379', '3393#53903', '53903#3393', '3399#7372', '7372#3399', '3408#7390', '7390#3408', '3410#7360', '7360#3410', '3413#7359', '7359#3413', '3413#7390', '7390#3413', '3413#34358', '34358#3413', '3414#34367', '34367#3414', '3414#34383', '34383#3414', '3415#34384', '34384#3415', '3416#34342', '34342#3416', '3420#7380', '7380#3420', '3422#34354', '34354#3422', '3422#34358', '34358#3422', '3438#34377', '34377#3438', '3441#34348', '34348#3441', '3444#34384', '34384#3444', '3450#7366', '7366#3450', '3450#34359', '34359#3450', '3450#34366', '34366#3450', '3451#7386', '7386#3451', '3451#34326', '34326#3451', '3452#7347', '7347#3452', '3452#34360', '34360#3452', '3453#34355', '34355#3453', '3453#34366', '34366#3453', '3460#34358', '34358#3460', '3462#7351', '7351#3462', '3500#54831', '54831#3500', '3504#54835', '54835#3504', '3506#30379', '30379#3506', '3507#30360', '30360#3507', '3508#23111', '23111#3508', '3528#54826', '54826#3528', '3550#19069', '19069#3550', '3555#19802', '19802#3555', '3565#19799', '19799#3565', '3572#54001', '54001#3572', '3574#54001', '54001#3574', '3575#53999', '53999#3575', '3611#30355', '30355#3611', '3612#30366', '30366#3612', '3619#30354', '30354#3619', '3635#54831', '54831#3635', '3735#47885', '47885#3735', '3763#38465', '38465#3763', '3772#38476', '38476#3772', '3851#9123', '9123#3851', '3865#8309', '8309#3865', '3871#23916', '23916#3871', '3871#23928', '23928#3871', '3879#23952', '23952#3879', '3888#16409', '16409#3888', '3923#43901', '43901#3923', '3927#16409', '16409#3927', '3945#18982', '18982#3945', '3950#38704', '38704#3950', '4048#15009', '15009#4048', '4048#37581', '37581#4048', '4054#31643', '31643#4054', '4057#40177', '40177#4057', '4059#40199', '40199#4059', '4207#27828', '27828#4207', '4237#27843', '27843#4237', '4302#29727', '29727#4302', '4313#6133', '6133#4313', '4327#23388', '23388#4327', '4385#23388', '23388#4385', '4414#42138', '42138#4414', '4427#43734', '43734#4427', '4469#31105', '31105#4469', '4548#26169', '26169#4548', '4588#26169', '26169#4588', '4611#26181', '26181#4611', '4660#41125', '41125#4660', '4670#41118', '41118#4670', '4679#41149', '41149#4679', '4693#40194', '40194#4693', '4698#43791', '43791#4698', '4699#30437', '30437#4699', '4715#40205', '40205#4715', '4716#31645', '31645#4716', '4727#40191', '40191#4727', '4731#17362', '17362#4731', '4734#31651', '31651#4734', '4734#43790', '43790#4734', '4735#31637', '31637#4735', '4737#30438', '30438#4737', '4737#54374', '54374#4737', '4744#41149', '41149#4744', '4744#41150', '41150#4744', '4746#41130', '41130#4746', '4748#5685', '5685#4748', '4762#6232', '6232#4762', '4762#6238', '6238#4762', '4824#20614', '20614#4824', '4891#35809', '35809#4891', '4937#36707', '36707#4937', '4981#20093', '20093#4981', '5002#3102', '3102#5002', '5031#21830', '21830#5031', '5060#34913', '34913#5060', '5060#34929', '34929#5060', '5063#34935', '34935#5063', '5066#36989', '36989#5066', '5072#34933', '34933#5072', '5072#34954', '34954#5072', '5074#34911', '34911#5074', '5075#36980', '36980#5075', '5078#40500', '40500#5078', '5078#40508', '40508#5078', '5080#40488', '40488#5080', '5081#9490', '9490#5081', '5083#40511', '40511#5083', '5084#40506', '40506#5084', '5086#40531', '40531#5086', '5087#40481', '40481#5087', '5088#9486', '9486#5088', '5089#9511', '9511#5089', '5089#40522', '40522#5089', '5123#34147', '34147#5123', '5131#37257', '37257#5131', '5144#43682', '43682#5144', '5147#34127', '34127#5147', '5147#44729', '44729#5147', '5148#43691', '43691#5148', '5148#43714', '43714#5148', '5154#44733', '44733#5154', '5162#34124', '34124#5162', '5202#22936', '22936#5202', '5208#22928', '22928#5208', '5209#22934', '22934#5209', '5216#44716', '44716#5216', '5228#27283', '27283#5228', '5344#47931', '47931#5344', '5350#47930', '47930#5350', '5353#30529', '30529#5353', '5364#47946', '47946#5364', '5407#27853', '27853#5407', '5410#20577', '20577#5410', '5516#9838', '9838#5516', '5519#9831', '9831#5519', '5543#10254', '10254#5543', '5683#35090', '35090#5683', '5696#37693', '37693#5696', '5703#37688', '37688#5703', '5708#37683', '37683#5708', '5713#35091', '35091#5713', '5727#4473', '4473#5727', '5734#4468', '4468#5734', '5748#21534', '21534#5748', '5749#50446', '50446#5749', '5762#21543', '21543#5762', '5807#6502', '6502#5807', '5828#6505', '6505#5828', '5853#32699', '32699#5853', '5886#19163', '19163#5886', '5943#29296', '29296#5943', '5986#38130', '38130#5986', '5994#38141', '38141#5994', '6012#47283', '47283#6012', '6048#4670', '4670#6048', '6105#7984', '7984#6105', '6219#29615', '29615#6219', '6235#13724', '13724#6235', '6281#47855', '47855#6281', '6283#47861', '47861#6283', '6288#47844', '47844#6288', '6290#47873', '47873#6290', '6291#47877', '47877#6291', '6307#42394', '42394#6307', '6315#20467', '20467#6315', '6315#20472', '20472#6315', '6334#18456', '18456#6334', '6346#18454', '18454#6346', '6426#31135', '31135#6426', '6430#31121', '31121#6430', '6431#31101', '31101#6431', '6444#32673', '32673#6444', '6459#18819', '18819#6459', '6525#38334', '38334#6525', '6533#38335', '38335#6533', '6593#38409', '38409#6593', '6622#785', '785#6622', '6625#801', '801#6625', '6635#825', '825#6635', '6680#44096', '44096#6680', '6725#17081', '17081#6725', '6763#51474', '51474#6763', '6765#51475', '51475#6765', '6852#39360', '39360#6852', '6856#7376', '7376#6856', '6858#39353', '39353#6858', '6867#13598', '13598#6867', '6868#13597', '13597#6868', '6877#13623', '13623#6877', '6882#13611', '13611#6882', '6901#10536', '10536#6901'])\n"
          ]
        }
      ]
    },
    {
      "cell_type": "code",
      "metadata": {
        "id": "AYamw5hMC7ND",
        "colab": {
          "base_uri": "https://localhost:8080/",
          "height": 0
        },
        "outputId": "3117b417-2392-4667-f14b-29d8525af185"
      },
      "source": [
        "weight_file = open('/content/gdrive/MyDrive/1 Dataset/weights_music/weights_list', 'rb') \n",
        "w_list = pickle.load(weight_file) # serializing and deserializing a Python object structure\n",
        "\n",
        "i=0\n",
        "for k in [250,500,750,1000]:\n",
        "  print(\"Top-\",k)\n",
        "  weight_this = w_list[i]\n",
        "  i+=1\n",
        "  # print(\"Weights =\",weight_this)\n",
        "  print(\"Fairness skew for w1 \" + \" is \"+ str(fair_calc(weights1,S,False,k)))\n",
        "  print(\"Fairness skew for w\" + str(k)+ \" is \"+ str(fair_calc(weight_this,S,False,k)))\n",
        "  print(\"Overlap with base result = \"+str(comp_overlap(weights1,weight_this,k))+\" /\"+ str(k))\n",
        "  print(\"Overlap with ground truth weights1\", check_gt(weights1,S,k))\n",
        "  print(\"Overlap with ground truth weights_this\", check_gt(weight_this,S,k),\"\\n\")\n"
      ],
      "execution_count": 31,
      "outputs": [
        {
          "output_type": "stream",
          "name": "stdout",
          "text": [
            "Top- 250\n",
            "Fairness skew for w1  is 3.156967876781878\n",
            "Fairness skew for w250 is 2.234057838008778\n",
            "Overlap with base result = 98 /250\n",
            "Overlap with ground truth weights1 (3, 0)\n",
            "Overlap with ground truth weights_this (5, 0) \n",
            "\n",
            "Top- 500\n",
            "Fairness skew for w1  is 2.523051658778157\n",
            "Fairness skew for w500 is 2.3263413645321025\n",
            "Overlap with base result = 363 /500\n",
            "Overlap with ground truth weights1 (5, 0)\n",
            "Overlap with ground truth weights_this (5, 0) \n",
            "\n",
            "Top- 750\n",
            "Fairness skew for w1  is 2.873940665649845\n",
            "Fairness skew for w750 is 1.3243853445213443\n",
            "Overlap with base result = 154 /750\n",
            "Overlap with ground truth weights1 (7, 0)\n",
            "Overlap with ground truth weights_this (10, 0) \n",
            "\n",
            "Top- 1000\n",
            "Fairness skew for w1  is 2.302715134119735\n",
            "Fairness skew for w1000 is 1.9170626780132305\n",
            "Overlap with base result = 240 /1000\n",
            "Overlap with ground truth weights1 (7, 0)\n",
            "Overlap with ground truth weights_this (18, 0) \n",
            "\n"
          ]
        }
      ]
    },
    {
      "cell_type": "code",
      "metadata": {
        "id": "UoJmbFQwfrlm"
      },
      "source": [
        "def get_results_em(weights):\n",
        "  # Load the pre-labeled data\n",
        "  rls_scores_G = get_RLS(weights,S)\n",
        "\n",
        "  # make seperate column for predicted label\n",
        "  count_pred = 0\n",
        "  G['pred_label'] = 0\n",
        "  for i in range(rls_scores_G.shape[0]):\n",
        "      if float(rls_scores_G[i,0]) > 0.2:\n",
        "          G['pred_label'][i] = 1\n",
        "          count_pred+=1\n",
        "      else:\n",
        "          G['pred_label'][i] = 0\n",
        "  print(\"\\n\")\n",
        "  print(\"percentage of labels=1: \" , count_pred/rls_scores_G.shape[0])\n",
        "\n",
        "  print()\n",
        "  print(\"--------------Evaluation summary---------------\")\n",
        "  # Evaluate the predictions\n",
        "  eval_result = em.eval_matches(G, 'label', 'pred_label')\n",
        "  em.print_eval_summary(eval_result)"
      ],
      "execution_count": 32,
      "outputs": []
    },
    {
      "cell_type": "code",
      "metadata": {
        "id": "dCw16mo-c6SH",
        "colab": {
          "base_uri": "https://localhost:8080/",
          "height": 0
        },
        "outputId": "70c7002b-5b67-4eb6-85bf-76c79c16ebcb"
      },
      "source": [
        "print(W)\n",
        "get_results_em(W)"
      ],
      "execution_count": 33,
      "outputs": [
        {
          "output_type": "stream",
          "name": "stdout",
          "text": [
            "tensor([[0.0357],\n",
            "        [0.0357],\n",
            "        [0.0357],\n",
            "        [0.0357],\n",
            "        [0.0357],\n",
            "        [0.0357],\n",
            "        [0.0357],\n",
            "        [0.0357],\n",
            "        [0.0357],\n",
            "        [0.0357],\n",
            "        [0.0357],\n",
            "        [0.0357],\n",
            "        [0.0357],\n",
            "        [0.0357],\n",
            "        [0.0357],\n",
            "        [0.0357],\n",
            "        [0.0357],\n",
            "        [0.0357],\n",
            "        [0.0357],\n",
            "        [0.0357],\n",
            "        [0.0357],\n",
            "        [0.0357],\n",
            "        [0.0357],\n",
            "        [0.0357],\n",
            "        [0.0357],\n",
            "        [0.0357],\n",
            "        [0.0357],\n",
            "        [0.0357]], dtype=torch.float64)\n"
          ]
        },
        {
          "output_type": "stream",
          "name": "stderr",
          "text": [
            "<ipython-input-32-895f59ee69f8>:13: SettingWithCopyWarning: \n",
            "A value is trying to be set on a copy of a slice from a DataFrame\n",
            "\n",
            "See the caveats in the documentation: https://pandas.pydata.org/pandas-docs/stable/user_guide/indexing.html#returning-a-view-versus-a-copy\n",
            "  G['pred_label'][i] = 0\n"
          ]
        },
        {
          "output_type": "stream",
          "name": "stdout",
          "text": [
            "\n",
            "\n",
            "percentage of labels=1:  0.0\n",
            "\n",
            "--------------Evaluation summary---------------\n",
            "Precision : 0.0% (0/0)\n",
            "Recall : 0.0% (0/132)\n",
            "F1 : 0.0%\n",
            "False positives : 0 (out of 0 positive predictions)\n",
            "False negatives : 132 (out of 539 negative predictions)\n"
          ]
        }
      ]
    },
    {
      "cell_type": "code",
      "metadata": {
        "id": "HzvLOb8Qb_AQ",
        "colab": {
          "base_uri": "https://localhost:8080/",
          "height": 0
        },
        "outputId": "c87591ed-8b85-4a0e-93ea-945f9049ac38"
      },
      "source": [
        "get_results_em(weights1)"
      ],
      "execution_count": 34,
      "outputs": [
        {
          "output_type": "stream",
          "name": "stderr",
          "text": [
            "<ipython-input-32-895f59ee69f8>:13: SettingWithCopyWarning: \n",
            "A value is trying to be set on a copy of a slice from a DataFrame\n",
            "\n",
            "See the caveats in the documentation: https://pandas.pydata.org/pandas-docs/stable/user_guide/indexing.html#returning-a-view-versus-a-copy\n",
            "  G['pred_label'][i] = 0\n",
            "<ipython-input-32-895f59ee69f8>:10: SettingWithCopyWarning: \n",
            "A value is trying to be set on a copy of a slice from a DataFrame\n",
            "\n",
            "See the caveats in the documentation: https://pandas.pydata.org/pandas-docs/stable/user_guide/indexing.html#returning-a-view-versus-a-copy\n",
            "  G['pred_label'][i] = 1\n"
          ]
        },
        {
          "output_type": "stream",
          "name": "stdout",
          "text": [
            "\n",
            "\n",
            "percentage of labels=1:  0.10647751188713071\n",
            "\n",
            "--------------Evaluation summary---------------\n",
            "Precision : 5.0% (1/20)\n",
            "Recall : 0.76% (1/132)\n",
            "F1 : 1.32%\n",
            "False positives : 19 (out of 20 positive predictions)\n",
            "False negatives : 131 (out of 519 negative predictions)\n"
          ]
        }
      ]
    },
    {
      "cell_type": "code",
      "metadata": {
        "id": "aAkgO0THc3Z8",
        "colab": {
          "base_uri": "https://localhost:8080/",
          "height": 0
        },
        "outputId": "ad2a1761-423f-4671-8e5b-34ffc0cc25cf"
      },
      "source": [
        "get_results_em(weights2)"
      ],
      "execution_count": 35,
      "outputs": [
        {
          "output_type": "stream",
          "name": "stderr",
          "text": [
            "<ipython-input-32-895f59ee69f8>:10: SettingWithCopyWarning: \n",
            "A value is trying to be set on a copy of a slice from a DataFrame\n",
            "\n",
            "See the caveats in the documentation: https://pandas.pydata.org/pandas-docs/stable/user_guide/indexing.html#returning-a-view-versus-a-copy\n",
            "  G['pred_label'][i] = 1\n",
            "<ipython-input-32-895f59ee69f8>:13: SettingWithCopyWarning: \n",
            "A value is trying to be set on a copy of a slice from a DataFrame\n",
            "\n",
            "See the caveats in the documentation: https://pandas.pydata.org/pandas-docs/stable/user_guide/indexing.html#returning-a-view-versus-a-copy\n",
            "  G['pred_label'][i] = 0\n"
          ]
        },
        {
          "output_type": "stream",
          "name": "stdout",
          "text": [
            "\n",
            "\n",
            "percentage of labels=1:  0.7813547431600281\n",
            "\n",
            "--------------Evaluation summary---------------\n",
            "Precision : 21.53% (73/339)\n",
            "Recall : 55.3% (73/132)\n",
            "F1 : 31.0%\n",
            "False positives : 266 (out of 339 positive predictions)\n",
            "False negatives : 59 (out of 200 negative predictions)\n"
          ]
        }
      ]
    }
  ]
}